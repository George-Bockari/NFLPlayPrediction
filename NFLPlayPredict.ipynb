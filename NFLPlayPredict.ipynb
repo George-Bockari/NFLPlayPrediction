{
 "cells": [
  {
   "cell_type": "code",
   "execution_count": 51,
   "metadata": {
    "collapsed": false,
    "scrolled": true
   },
   "outputs": [
    {
     "name": "stdout",
     "output_type": "stream",
     "text": [
      "177245\n"
     ]
    }
   ],
   "source": [
    "import random\n",
    "from __future__ import division\n",
    "import svmprediction\n",
    "reload(svmprediction)\n",
    "import feat\n",
    "reload(feat)\n",
    "from feat import extract_features\n",
    "from feat import encode_categorical_features\n",
    "from sklearn import svm\n",
    "\n",
    "(features, labels, yard_labels, _) = extract_features(2009, 2014)\n"
   ]
  },
  {
   "cell_type": "code",
   "execution_count": 91,
   "metadata": {
    "collapsed": false
   },
   "outputs": [
    {
     "name": "stdout",
     "output_type": "stream",
     "text": [
      "[  9.97857167e-01   2.07908811e-03   4.91223361e-05   2.51415598e-06\n",
      "   1.48316376e-06   1.10489155e-06]\n",
      "0.999990479455 0.0391343197693\n"
     ]
    }
   ],
   "source": [
    "import dimreduction\n",
    "reload(dimreduction)\n",
    "\n",
    "(svm_features, encoder) = encode_categorical_features(features)\n",
    "(reduced_features, pca) = dimreduction.pca(svm_features.toarray(), 6)\n",
    "print sum(pca.explained_variance_ratio_), pca.noise_variance_\n",
    "\n",
    "#import pickle\n",
    "#pickle.dump( reduced_features, open( \"features_pca1.p\", \"wb\" ) )"
   ]
  },
  {
   "cell_type": "code",
   "execution_count": 89,
   "metadata": {
    "collapsed": false
   },
   "outputs": [
    {
     "name": "stdout",
     "output_type": "stream",
     "text": [
      "6048\n",
      "**********************************\n",
      "Recall: 50.8390918065 %\n",
      "Precision: 53.2299741602 %\n",
      "Accuracy: 68.5681216931 %\n",
      "**********************************\n",
      "[[3117  905]\n",
      " [ 996 1030]]\n"
     ]
    }
   ],
   "source": [
    "from sklearn.cross_validation import train_test_split\n",
    "from sklearn.metrics import confusion_matrix\n",
    "from sklearn import svm\n",
    "import feat\n",
    "reload(feat)\n",
    "(team_features,team_labels) = feat.get_team_features('NE', features, labels,feature_name='team')\n",
    "\n",
    "(svm_features, encoder) = encode_categorical_features(team_features)\n",
    "\n",
    "clf = tree.DecisionTreeClassifier(max_depth=2,class_weight='balanced')\n",
    "cm = evaluate.clf_evaluate(clf,svm_features,team_labels)\n",
    "\n",
    "evaluate.plot_tree(clf,encoder.feature_names_)\n",
    "print cm"
   ]
  },
  {
   "cell_type": "code",
   "execution_count": 90,
   "metadata": {
    "collapsed": false
   },
   "outputs": [
    {
     "name": "stdout",
     "output_type": "stream",
     "text": [
      "5435\n",
      "**********************************\n",
      "Recall: 38.2746051033 %\n",
      "Precision: 37.4109263658 %\n",
      "Accuracy: 61.9135234591 %\n",
      "**********************************\n",
      "[[2735 1054]\n",
      " [1016  630]]\n"
     ]
    }
   ],
   "source": [
    "from sklearn.cross_validation import train_test_split\n",
    "from sklearn.metrics import confusion_matrix\n",
    "from sklearn import svm\n",
    "import feat\n",
    "reload(feat)\n",
    "(team_features,team_labels) = feat.get_team_features('NO', features, labels,feature_name='opponent')\n",
    "\n",
    "(svm_features, encoder) = encode_categorical_features(team_features)\n",
    "\n",
    "classifier = svm.SVC(class_weight='balanced')\n",
    "cm = evaluate.clf_evaluate(classifier,svm_features,team_labels)\n",
    "print cm"
   ]
  },
  {
   "cell_type": "code",
   "execution_count": null,
   "metadata": {
    "collapsed": false,
    "scrolled": true
   },
   "outputs": [],
   "source": [
    "encoder.vocabulary_"
   ]
  },
  {
   "cell_type": "code",
   "execution_count": 1,
   "metadata": {
    "collapsed": true
   },
   "outputs": [],
   "source": [
    "#import pickle\n",
    "#reduced_features = pickle.load( open( \"features_pca1.p\", \"rb\" ) )"
   ]
  },
  {
   "cell_type": "code",
   "execution_count": 47,
   "metadata": {
    "collapsed": false
   },
   "outputs": [
    {
     "name": "stdout",
     "output_type": "stream",
     "text": [
      "**********************************\n",
      "Recall: 65.8508136222 %\n",
      "Precision: 46.5214924486 %\n",
      "Accuracy: 67.5889305763 %\n",
      "**********************************\n"
     ]
    }
   ],
   "source": [
    "import evaluate\n",
    "from sklearn import tree\n",
    "reload(evaluate)\n",
    "clf = tree.DecisionTreeClassifier(max_depth=8,class_weight='balanced')\n",
    "cm = evaluate.clf_evaluate(clf,svm_features, labels)\n",
    "\n",
    "#evaluate.plot_confusion_matrix(cm)"
   ]
  },
  {
   "cell_type": "code",
   "execution_count": 39,
   "metadata": {
    "collapsed": false
   },
   "outputs": [
    {
     "name": "stdout",
     "output_type": "stream",
     "text": [
      "7.24255029989\n"
     ]
    }
   ],
   "source": [
    "from sklearn import tree\n",
    "reload(evaluate)\n",
    "\n",
    "clf = tree.DecisionTreeRegressor()\n",
    "diffs = evaluate.reg_evaluate(clf,svm_features, yard_labels)\n",
    "\n",
    "plt.hist(diffs,bins = 100)\n",
    "plt.xlabel('Difference [yards]')\n",
    "plt.show()\n"
   ]
  },
  {
   "cell_type": "code",
   "execution_count": null,
   "metadata": {
    "collapsed": false
   },
   "outputs": [],
   "source": []
  },
  {
   "cell_type": "code",
   "execution_count": 67,
   "metadata": {
    "collapsed": false
   },
   "outputs": [
    {
     "name": "stdout",
     "output_type": "stream",
     "text": [
      "[[22986  8237]\n",
      " [ 7690  5399]]\n"
     ]
    }
   ],
   "source": [
    "from sklearn.cross_validation import train_test_split\n",
    "from sklearn.metrics import confusion_matrix\n",
    "from sklearn import svm\n",
    "\n",
    "classifier = svm.SVC(class_weight='balanced')\n",
    "\n",
    "X_train, X_test, y_train, y_test = train_test_split(reduced_features, labels)\n",
    "# Run classifier\n",
    "y_pred = classifier.fit(X_train, y_train).predict(X_test)\n",
    "\n",
    "# Compute confusion matrix\n",
    "cm = confusion_matrix(y_test, y_pred)\n",
    "print cm"
   ]
  },
  {
   "cell_type": "code",
   "execution_count": null,
   "metadata": {
    "collapsed": false
   },
   "outputs": [],
   "source": [
    "from sklearn.externals import joblib\n",
    "joblib.dump(classifier, 'svm_pca6.pkl') \n",
    "#clf = joblib.load('svm_pca6.pkl') "
   ]
  },
  {
   "cell_type": "code",
   "execution_count": 36,
   "metadata": {
    "collapsed": false
   },
   "outputs": [],
   "source": []
  },
  {
   "cell_type": "code",
   "execution_count": 24,
   "metadata": {
    "collapsed": false
   },
   "outputs": [
    {
     "name": "stdout",
     "output_type": "stream",
     "text": [
      "**********************************\n",
      "Recall: 58.5578522669 %\n",
      "Precision: 47.8470095619 %\n",
      "Accuracy: 68.9396033739 %\n",
      "**********************************\n",
      "[[91568 33380]\n",
      " [21673 30624]]\n"
     ]
    }
   ],
   "source": [
    "import evaluate\n",
    "from sklearn import tree\n",
    "from sklearn.cross_validation import train_test_split\n",
    "from sklearn.metrics import confusion_matrix\n",
    "reload(evaluate)\n",
    "\n",
    "clf = tree.DecisionTreeClassifier(max_depth=4,class_weight='balanced')\n",
    "cm = evaluate.clf_evaluate(clf,svm_features,labels)\n",
    "\n",
    "evaluate.plot_tree(clf,encoder.feature_names_)\n",
    "\n",
    "print cm\n"
   ]
  },
  {
   "cell_type": "code",
   "execution_count": null,
   "metadata": {
    "collapsed": true
   },
   "outputs": [],
   "source": []
  },
  {
   "cell_type": "code",
   "execution_count": 3,
   "metadata": {
    "collapsed": true
   },
   "outputs": [
    {
     "ename": "NameError",
     "evalue": "name 'classifier' is not defined",
     "output_type": "error",
     "traceback": [
      "\u001b[1;31m---------------------------------------------------------------------------\u001b[0m",
      "\u001b[1;31mNameError\u001b[0m                                 Traceback (most recent call last)",
      "\u001b[1;32m<ipython-input-3-08f59e0ce9fa>\u001b[0m in \u001b[0;36m<module>\u001b[1;34m()\u001b[0m\n\u001b[0;32m      2\u001b[0m \u001b[1;33m\u001b[0m\u001b[0m\n\u001b[0;32m      3\u001b[0m \u001b[1;31m#Train classifier\u001b[0m\u001b[1;33m\u001b[0m\u001b[1;33m\u001b[0m\u001b[0m\n\u001b[1;32m----> 4\u001b[1;33m \u001b[0mclassifier\u001b[0m\u001b[1;33m.\u001b[0m\u001b[0mfit\u001b[0m\u001b[1;33m(\u001b[0m\u001b[0msvm_features\u001b[0m\u001b[1;33m,\u001b[0m \u001b[0mlabels\u001b[0m\u001b[1;33m)\u001b[0m\u001b[1;33m\u001b[0m\u001b[0m\n\u001b[0m\u001b[0;32m      5\u001b[0m \u001b[1;33m\u001b[0m\u001b[0m\n\u001b[0;32m      6\u001b[0m \u001b[1;31m#Predict result for play\u001b[0m\u001b[1;33m\u001b[0m\u001b[1;33m\u001b[0m\u001b[0m\n",
      "\u001b[1;31mNameError\u001b[0m: name 'classifier' is not defined"
     ]
    }
   ],
   "source": [
    "#Example\n",
    "\n",
    "#Train classifier\n",
    "classifier.fit(svm_features, labels)  \n",
    "\n",
    "#Predict result for play\n",
    "X = defaultdict(float)\n",
    "X['team'] = \"GB\"\n",
    "X['opponent'] = \"NYG\"\n",
    "X['time'] = 425\n",
    "X['half'] = 1 \n",
    "X['position'] = 10\n",
    "X['half'] = 2\n",
    "X['togo'] = 10\n",
    "X['shotgun'] = 0\n",
    "X['pass'] = 1\n",
    "X['passlen'] = 'short'\n",
    "X['side'] = 'left'\n",
    "X['qbrun'] = 0\n",
    "X = encoder.transform(X)\n",
    "\n",
    "y_pred = clf.predict(X)\n",
    "print prediction"
   ]
  }
 ],
 "metadata": {
  "kernelspec": {
   "display_name": "Python 2",
   "language": "python",
   "name": "python2"
  },
  "language_info": {
   "codemirror_mode": {
    "name": "ipython",
    "version": 2
   },
   "file_extension": ".py",
   "mimetype": "text/x-python",
   "name": "python",
   "nbconvert_exporter": "python",
   "pygments_lexer": "ipython2",
   "version": "2.7.10"
  }
 },
 "nbformat": 4,
 "nbformat_minor": 0
}
