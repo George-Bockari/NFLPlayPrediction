{
 "cells": [
  {
   "cell_type": "code",
   "execution_count": 3,
   "metadata": {
    "collapsed": false,
    "scrolled": true
   },
   "outputs": [
    {
     "name": "stdout",
     "output_type": "stream",
     "text": [
      "177245\n"
     ]
    }
   ],
   "source": [
    "import random\n",
    "from __future__ import division\n",
    "import svmprediction\n",
    "reload(svmprediction)\n",
    "import feat\n",
    "reload(feat)\n",
    "from feat import extract_features\n",
    "from feat import encode_categorical_features\n",
    "from sklearn import svm\n",
    "\n",
    "(features, labels, yard_labels, prog_labels) = extract_features(2009, 2014)\n"
   ]
  },
  {
   "cell_type": "code",
   "execution_count": null,
   "metadata": {
    "collapsed": true
   },
   "outputs": [],
   "source": []
  },
  {
   "cell_type": "code",
   "execution_count": 2,
   "metadata": {
    "collapsed": false
   },
   "outputs": [
    {
     "name": "stdout",
     "output_type": "stream",
     "text": [
      "[  9.97857167e-01   2.07908811e-03   4.91223361e-05   2.51415598e-06\n",
      "   1.48316376e-06   1.10489155e-06   9.61470841e-07   8.55971418e-07\n",
      "   5.81317881e-07   4.48773162e-07   1.60637834e-07   1.43574684e-07\n",
      "   1.36248546e-07   1.35468678e-07   1.34570270e-07   1.32123573e-07\n",
      "   1.29927650e-07   1.28087487e-07   1.27395847e-07   1.25634028e-07\n",
      "   1.25355994e-07   1.24612715e-07   1.24334238e-07   1.23908792e-07\n",
      "   1.22860736e-07   1.22159789e-07   1.21941059e-07   1.20917963e-07\n",
      "   1.20479155e-07   1.19898068e-07   1.19614510e-07   1.18612414e-07\n",
      "   1.18174625e-07   1.17393971e-07   1.16657459e-07   1.15671683e-07\n",
      "   1.15213104e-07   1.14285708e-07   1.14131050e-07   1.13203640e-07\n",
      "   1.12969074e-07   1.03840214e-07   9.97021493e-08   9.87777345e-08\n",
      "   9.80832253e-08   9.73360338e-08   9.69721900e-08   9.61928191e-08\n",
      "   9.56149184e-08   9.51319512e-08   9.49567517e-08   9.44042579e-08\n",
      "   9.40659012e-08   9.37606957e-08   9.24627017e-08   9.22317337e-08\n",
      "   9.14771330e-08   9.12285853e-08   9.01059793e-08   8.94739049e-08\n",
      "   8.91389493e-08   8.88247739e-08   8.78582198e-08   8.76227448e-08\n",
      "   8.62262639e-08   8.57535620e-08   8.06665644e-08   8.02005770e-08\n",
      "   7.93824988e-08   7.89444403e-08   7.12145055e-08   5.34643702e-08\n",
      "   4.18305093e-08   1.96950269e-31   9.85965025e-33   9.85947152e-33\n",
      "   3.73529427e-34]\n"
     ]
    }
   ],
   "source": [
    "import dimreduction\n",
    "reload(dimreduction)\n",
    "\n",
    "(svm_features, encoder) = encode_categorical_features(features)\n",
    "(reduced_features, pca) = dimreduction.pca(svm_features.toarray(), svm_features.shape[1])\n",
    "#print sum(pca.explained_variance_ratio_), pca.noise_variance_\n",
    "\n",
    "#import pickle\n",
    "#pickle.dump( reduced_features, open( \"features_pca1.p\", \"wb\" ) )"
   ]
  },
  {
   "cell_type": "code",
   "execution_count": 21,
   "metadata": {
    "collapsed": false
   },
   "outputs": [
    {
     "data": {
      "text/plain": [
       "LinearRegression(copy_X=True, fit_intercept=True, n_jobs=1, normalize=True)"
      ]
     },
     "execution_count": 21,
     "metadata": {},
     "output_type": "execute_result"
    }
   ],
   "source": [
    "from sklearn.metrics import confusion_matrix\n",
    "from sklearn.linear_model import LinearRegression\n",
    "linreg = LinearRegression(normalize=True)\n",
    "linreg.fit(svm_features,yard_labels)"
   ]
  },
  {
   "cell_type": "code",
   "execution_count": 28,
   "metadata": {
    "collapsed": false
   },
   "outputs": [
    {
     "name": "stderr",
     "output_type": "stream",
     "text": [
      "C:\\Anaconda\\lib\\site-packages\\sklearn\\discriminant_analysis.py:387: UserWarning: Variables are collinear.\n",
      "  warnings.warn(\"Variables are collinear.\")\n"
     ]
    },
    {
     "data": {
      "text/plain": [
       "LinearDiscriminantAnalysis(n_components=None, priors=None, shrinkage=None,\n",
       "              solver='svd', store_covariance=False, tol=0.0001)"
      ]
     },
     "execution_count": 28,
     "metadata": {},
     "output_type": "execute_result"
    }
   ],
   "source": [
    "from sklearn.discriminant_analysis import LinearDiscriminantAnalysis\n",
    "clf = LinearDiscriminantAnalysis()\n",
    "clf.fit(svm_features.toarray(),labels)"
   ]
  },
  {
   "cell_type": "code",
   "execution_count": 24,
   "metadata": {
    "collapsed": false
   },
   "outputs": [
    {
     "data": {
      "text/plain": [
       "DecisionTreeClassifier(class_weight='balanced', criterion='gini', max_depth=8,\n",
       "            max_features=None, max_leaf_nodes=None, min_samples_leaf=1,\n",
       "            min_samples_split=2, min_weight_fraction_leaf=0.0,\n",
       "            presort=False, random_state=None, splitter='best')"
      ]
     },
     "execution_count": 24,
     "metadata": {},
     "output_type": "execute_result"
    }
   ],
   "source": [
    "from sklearn.cross_validation import train_test_split\n",
    "from sklearn.metrics import confusion_matrix\n",
    "from sklearn import svm\n",
    "import feat\n",
    "reload(feat)\n",
    "\n",
    "clf = tree.DecisionTreeClassifier(max_depth=8,class_weight='balanced')\n",
    "clf.fit(svm_features,labels)"
   ]
  },
  {
   "cell_type": "code",
   "execution_count": 29,
   "metadata": {
    "collapsed": false
   },
   "outputs": [
    {
     "name": "stdout",
     "output_type": "stream",
     "text": [
      "0 left [0]\n",
      "0 middle [0]\n",
      "0 right [0]\n",
      "1 left [1]\n",
      "1 middle [1]\n",
      "1 right [1]\n"
     ]
    },
    {
     "data": {
      "text/plain": [
       "array([1])"
      ]
     },
     "execution_count": 29,
     "metadata": {},
     "output_type": "execute_result"
    }
   ],
   "source": [
    "import evaluate\n",
    "reload(evaluate)\n",
    "from evaluate import *\n",
    "predict_superbowl(encoder,clf)"
   ]
  },
  {
   "cell_type": "code",
   "execution_count": null,
   "metadata": {
    "collapsed": true
   },
   "outputs": [],
   "source": []
  },
  {
   "cell_type": "code",
   "execution_count": 24,
   "metadata": {
    "collapsed": false
   },
   "outputs": [
    {
     "name": "stdout",
     "output_type": "stream",
     "text": [
      " togo : 16146.9296874\n",
      "down : 6690.42617776\n",
      "pass : 2927.44908471\n",
      "passlen=short : 1256.44200882\n",
      "passlen=deep : 867.026999541\n",
      "shotgun : 642.945785289\n",
      "position : 295.360932205\n",
      "qbrun : 87.0142581203\n",
      "time : 56.6681395013\n",
      "team=NO : 54.676413558\n",
      "team=NE : 48.0158164691\n",
      "side=left : 32.5498912148\n",
      "team=CLE : 23.238780034\n",
      "team=DAL : 22.7886694343\n",
      "opponent=NYJ : 22.6780050946\n",
      "team=STL : 21.4592639991\n",
      "opponent=SF : 20.3521954151\n",
      "team=GB : 19.4467867648\n",
      "team=SD : 18.2637947784\n",
      "team=BUF : 15.4521151362\n",
      "team=TEN : 14.0590880507\n",
      "team=NYJ : 13.9024817323\n",
      "team=TB : 13.6439073885\n",
      "side=middle : 13.6372024908\n",
      "team=PIT : 13.5705497916\n",
      "opponent=BAL : 13.1541140085\n",
      "team=OAK : 13.1216491634\n",
      "team=JAC : 13.1175705413\n",
      "team=ARI : 12.6199329684\n",
      "team=PHI : 10.1168188796\n",
      "team=DEN : 8.76229146509\n",
      "opponent=TB : 8.72633185299\n",
      "opponent=NE : 8.56816485193\n",
      "team=KC : 7.81496506954\n",
      "opponent=SEA : 7.45340792081\n",
      "opponent=PIT : 6.60135610509\n",
      "opponent=DAL : 6.11633155289\n",
      "opponent=ARI : 5.65844951489\n",
      "team=HOU : 4.80267880178\n",
      "team=SF : 4.43610254836\n",
      "opponent=IND : 3.87952295288\n",
      "opponent=ATL : 3.79170194521\n",
      "opponent=CIN : 3.67530741209\n",
      "half : 3.50499764596\n",
      "side=right : 3.48229356775\n",
      "opponent=WAS : 3.2377302377\n",
      "team=BAL : 2.64600844936\n",
      "team=CIN : 2.63659885262\n",
      "opponent=TEN : 2.56315472027\n",
      "opponent=NYG : 2.29121177282\n",
      "opponent=MIN : 2.24874122738\n",
      "team=ATL : 2.2153536928\n",
      "opponent=DEN : 1.97204123928\n",
      "opponent=STL : 1.92175526994\n",
      "opponent=CHI : 1.8705173903\n",
      "opponent=JAC : 1.83921721491\n",
      "team=SEA : 1.80418402505\n",
      "opponent=SD : 1.67326487234\n",
      "opponent=NO : 1.63878972839\n",
      "opponent=HOU : 1.57147016112\n",
      "team=IND : 1.17826444829\n",
      "team=CHI : 0.877626839692\n",
      "opponent=GB : 0.630657682177\n",
      "team=WAS : 0.572768132794\n",
      "team=NYG : 0.498867442589\n",
      "team=CAR : 0.449289899496\n",
      "opponent=KC : 0.443873877288\n",
      "opponent=CAR : 0.380078671878\n",
      "opponent=MIA : 0.365092676766\n",
      "opponent=BUF : 0.108291588055\n",
      "opponent=CLE : 0.0976562320733\n",
      "opponent=PHI : 0.095281252212\n",
      "team=DET : 0.0627368993819\n",
      "team=MIN : 0.0607449675254\n",
      "opponent=DET : 0.0238533596571\n",
      "opponent=OAK : 0.00135590489468\n",
      "team=MIA : 5.58483349251e-05\n"
     ]
    }
   ],
   "source": [
    "from sklearn.feature_selection import f_classif\n",
    "\n",
    "(f_val,_) = f_classif(svm_features,labels)\n",
    "sort_scores = [i[0] for i in sorted(enumerate(f_val), key=lambda x:x[1], reverse=True)]\n",
    "for i in sort_scores:\n",
    "    print encoder.feature_names_[i],':',f_val[i]"
   ]
  },
  {
   "cell_type": "code",
   "execution_count": 18,
   "metadata": {
    "collapsed": false,
    "scrolled": true
   },
   "outputs": [
    {
     "name": "stdout",
     "output_type": "stream",
     "text": [
      "down : 0.654556312723\n",
      "half : 0.249986489207\n",
      "opponent=ARI : 0.0312302507503\n",
      "opponent=ATL : 0.0298452926141\n",
      "opponent=BAL : 0.0302898009327\n",
      "opponent=BUF : 0.0310718893023\n",
      "opponent=CAR : 0.029437432045\n",
      "opponent=CHI : 0.0302739333705\n",
      "opponent=CIN : 0.0301046437237\n",
      "opponent=CLE : 0.0320528066682\n",
      "opponent=DAL : 0.0295222133603\n",
      "opponent=DEN : 0.0307391437628\n",
      "opponent=DET : 0.0299299954975\n",
      "opponent=GB : 0.0301522630259\n",
      "opponent=HOU : 0.0297393910914\n",
      "opponent=IND : 0.0308870618637\n",
      "opponent=JAC : 0.0308817799338\n",
      "opponent=KC : 0.0305436040041\n",
      "opponent=MIA : 0.0306863037738\n",
      "opponent=MIN : 0.0303374001813\n",
      "opponent=NE : 0.0311774699672\n",
      "opponent=NO : 0.0297235036667\n",
      "opponent=NYG : 0.0300464353514\n",
      "opponent=NYJ : 0.0295540021518\n",
      "opponent=OAK : 0.030146972247\n",
      "opponent=PHI : 0.0307232924345\n",
      "opponent=PIT : 0.0288275868052\n",
      "opponent=SD : 0.0289708434923\n",
      "opponent=SEA : 0.0298664698629\n",
      "opponent=SF : 0.0299247020448\n",
      "opponent=STL : 0.0298029350608\n",
      "opponent=TB : 0.0305700333888\n",
      "opponent=TEN : 0.0317577084392\n",
      "opponent=WAS : 0.0299141149483\n",
      "pass : 0.245934404255\n",
      "passlen=deep : 0.0941589128793\n",
      "passlen=short : 0.248280168978\n",
      "position : 612.766253244\n",
      "qbrun : 0.0128684484356\n",
      "shotgun : 0.247766545034\n",
      "side=left : 0.214932421837\n",
      "side=middle : 0.22821567563\n",
      "side=right : 0.222728294607\n",
      "team=ARI : 0.0292201055351\n",
      "team=ATL : 0.0313674509925\n",
      "team=BAL : 0.0309662831724\n",
      "team=BUF : 0.0295645979064\n",
      "team=CAR : 0.0297446867724\n",
      "team=CHI : 0.0291140537695\n",
      "team=CIN : 0.0308553693295\n",
      "team=CLE : 0.029628167086\n",
      "team=DAL : 0.0302263272464\n",
      "team=DEN : 0.0319052825093\n",
      "team=DET : 0.0322424072479\n",
      "team=GB : 0.0300570192648\n",
      "team=HOU : 0.0317366223548\n",
      "team=IND : 0.0313621748559\n",
      "team=JAC : 0.0298029350608\n",
      "team=KC : 0.02999880459\n",
      "team=MIA : 0.0295910861786\n",
      "team=MIN : 0.0298770581053\n",
      "team=NE : 0.0329579315107\n",
      "team=NO : 0.0325213912872\n",
      "team=NYG : 0.0306493119935\n",
      "team=NYJ : 0.0303902821874\n",
      "team=OAK : 0.0297287995386\n",
      "team=PHI : 0.0305594618259\n",
      "team=PIT : 0.0300252667607\n",
      "team=SD : 0.0302210373587\n",
      "team=SEA : 0.0292837243713\n",
      "team=SF : 0.0284028500728\n",
      "team=STL : 0.0295487041791\n",
      "team=TB : 0.028578103345\n",
      "team=TEN : 0.0287055167253\n",
      "team=WAS : 0.0298717640159\n",
      "time : 291214.142267\n",
      "togo : 15.1413216025\n"
     ]
    }
   ],
   "source": [
    "from sklearn.feature_selection import VarianceThreshold\n",
    "sp = VarianceThreshold()\n",
    "sp.fit(svm_features,labels)\n",
    "#print sp.scores_ \n",
    "\n",
    "for i in range(len(encoder.feature_names_)):\n",
    "    print encoder.feature_names_[i],':',sp.variances_[i]"
   ]
  },
  {
   "cell_type": "code",
   "execution_count": 9,
   "metadata": {
    "collapsed": false
   },
   "outputs": [
    {
     "data": {
      "text/plain": [
       "0.99998537724421344"
      ]
     },
     "execution_count": 9,
     "metadata": {},
     "output_type": "execute_result"
    }
   ],
   "source": [
    "sum(pca.explained_variance_ratio_[:3])"
   ]
  },
  {
   "cell_type": "code",
   "execution_count": 112,
   "metadata": {
    "collapsed": false
   },
   "outputs": [],
   "source": [
    "import matplotlib.pyplot as plt\n",
    "\n",
    "plt.clf()\n",
    "x=range(1,len(pca.explained_variance_ratio_)+1)\n",
    "plt.plot(x,pca.explained_variance_ratio_,marker='o')\n",
    "plt.yscale('log')\n",
    "plt.ylim([0.00000000000000000000000000000000001,10])\n",
    "plt.ylabel('Variance ratio')\n",
    "plt.xlabel('Component')\n",
    "plt.title('Component variances')\n",
    "\n",
    "\n",
    "plt.show()"
   ]
  },
  {
   "cell_type": "code",
   "execution_count": 110,
   "metadata": {
    "collapsed": false
   },
   "outputs": [],
   "source": [
    "\n",
    "plt.clf()\n",
    "#x=range(1,len(pca.explained_variance_ratio_)+1)\n",
    "x1=[]\n",
    "y1=[]\n",
    "x2=[]\n",
    "y2=[]\n",
    "for i,t in enumerate(reduced_features):\n",
    "    if labels[i] == 1:\n",
    "        x1.append(t[0])\n",
    "        y1.append(t[1])\n",
    "    else:\n",
    "        x2.append(t[0])\n",
    "        y2.append(t[1])\n",
    "\n",
    "plt.scatter(x2,y2,marker='.',color='b',alpha=0.66,label='failure')\n",
    "plt.scatter(x1,y1,marker='.',color='r',alpha=0.33,label='success')\n",
    "\n",
    "plt.legend(loc=4)\n",
    "\n",
    "\n",
    "plt.ylabel('Component 2')\n",
    "plt.xlabel('Component 1')\n",
    "plt.xlim([-1200,1000])\n",
    "plt.title('Projection of first two components')\n",
    "\n",
    "\n",
    "plt.show()"
   ]
  },
  {
   "cell_type": "code",
   "execution_count": 21,
   "metadata": {
    "collapsed": false
   },
   "outputs": [
    {
     "ename": "MemoryError",
     "evalue": "",
     "output_type": "error",
     "traceback": [
      "\u001b[1;31m---------------------------------------------------------------------------\u001b[0m",
      "\u001b[1;31mMemoryError\u001b[0m                               Traceback (most recent call last)",
      "\u001b[1;32m<ipython-input-21-29bec5dc1f10>\u001b[0m in \u001b[0;36m<module>\u001b[1;34m()\u001b[0m\n\u001b[0;32m      9\u001b[0m \u001b[1;33m\u001b[0m\u001b[0m\n\u001b[0;32m     10\u001b[0m \u001b[0mkpca\u001b[0m \u001b[1;33m=\u001b[0m \u001b[0mKernelPCA\u001b[0m\u001b[1;33m(\u001b[0m\u001b[0mn_components\u001b[0m\u001b[1;33m=\u001b[0m\u001b[1;36m2\u001b[0m\u001b[1;33m,\u001b[0m\u001b[0mkernel\u001b[0m\u001b[1;33m=\u001b[0m\u001b[1;34m'sigmoid'\u001b[0m\u001b[1;33m)\u001b[0m\u001b[1;33m\u001b[0m\u001b[0m\n\u001b[1;32m---> 11\u001b[1;33m \u001b[0mred_features\u001b[0m \u001b[1;33m=\u001b[0m \u001b[0mkpca\u001b[0m\u001b[1;33m.\u001b[0m\u001b[0mfit_transform\u001b[0m\u001b[1;33m(\u001b[0m\u001b[0msvm_features\u001b[0m\u001b[1;33m,\u001b[0m\u001b[0mlabels\u001b[0m\u001b[1;33m)\u001b[0m\u001b[1;33m\u001b[0m\u001b[0m\n\u001b[0m\u001b[0;32m     12\u001b[0m \u001b[1;32mfor\u001b[0m \u001b[0mi\u001b[0m\u001b[1;33m,\u001b[0m\u001b[0mt\u001b[0m \u001b[1;32min\u001b[0m \u001b[0menumerate\u001b[0m\u001b[1;33m(\u001b[0m\u001b[0mred_features\u001b[0m\u001b[1;33m)\u001b[0m\u001b[1;33m:\u001b[0m\u001b[1;33m\u001b[0m\u001b[0m\n\u001b[0;32m     13\u001b[0m     \u001b[1;32mif\u001b[0m \u001b[0mlabels\u001b[0m\u001b[1;33m[\u001b[0m\u001b[0mi\u001b[0m\u001b[1;33m]\u001b[0m \u001b[1;33m==\u001b[0m \u001b[1;36m1\u001b[0m\u001b[1;33m:\u001b[0m\u001b[1;33m\u001b[0m\u001b[0m\n",
      "\u001b[1;32mC:\\Anaconda\\lib\\site-packages\\sklearn\\decomposition\\kernel_pca.pyc\u001b[0m in \u001b[0;36mfit_transform\u001b[1;34m(self, X, y, **params)\u001b[0m\n\u001b[0;32m    224\u001b[0m         \u001b[0mX_new\u001b[0m\u001b[1;33m:\u001b[0m \u001b[0marray\u001b[0m\u001b[1;33m-\u001b[0m\u001b[0mlike\u001b[0m\u001b[1;33m,\u001b[0m \u001b[0mshape\u001b[0m \u001b[1;33m(\u001b[0m\u001b[0mn_samples\u001b[0m\u001b[1;33m,\u001b[0m \u001b[0mn_components\u001b[0m\u001b[1;33m)\u001b[0m\u001b[1;33m\u001b[0m\u001b[0m\n\u001b[0;32m    225\u001b[0m         \"\"\"\n\u001b[1;32m--> 226\u001b[1;33m         \u001b[0mself\u001b[0m\u001b[1;33m.\u001b[0m\u001b[0mfit\u001b[0m\u001b[1;33m(\u001b[0m\u001b[0mX\u001b[0m\u001b[1;33m,\u001b[0m \u001b[1;33m**\u001b[0m\u001b[0mparams\u001b[0m\u001b[1;33m)\u001b[0m\u001b[1;33m\u001b[0m\u001b[0m\n\u001b[0m\u001b[0;32m    227\u001b[0m \u001b[1;33m\u001b[0m\u001b[0m\n\u001b[0;32m    228\u001b[0m         \u001b[0mX_transformed\u001b[0m \u001b[1;33m=\u001b[0m \u001b[0mself\u001b[0m\u001b[1;33m.\u001b[0m\u001b[0malphas_\u001b[0m \u001b[1;33m*\u001b[0m \u001b[0mnp\u001b[0m\u001b[1;33m.\u001b[0m\u001b[0msqrt\u001b[0m\u001b[1;33m(\u001b[0m\u001b[0mself\u001b[0m\u001b[1;33m.\u001b[0m\u001b[0mlambdas_\u001b[0m\u001b[1;33m)\u001b[0m\u001b[1;33m\u001b[0m\u001b[0m\n",
      "\u001b[1;32mC:\\Anaconda\\lib\\site-packages\\sklearn\\decomposition\\kernel_pca.pyc\u001b[0m in \u001b[0;36mfit\u001b[1;34m(self, X, y)\u001b[0m\n\u001b[0;32m    200\u001b[0m             \u001b[0mReturns\u001b[0m \u001b[0mthe\u001b[0m \u001b[0minstance\u001b[0m \u001b[0mitself\u001b[0m\u001b[1;33m.\u001b[0m\u001b[1;33m\u001b[0m\u001b[0m\n\u001b[0;32m    201\u001b[0m         \"\"\"\n\u001b[1;32m--> 202\u001b[1;33m         \u001b[0mK\u001b[0m \u001b[1;33m=\u001b[0m \u001b[0mself\u001b[0m\u001b[1;33m.\u001b[0m\u001b[0m_get_kernel\u001b[0m\u001b[1;33m(\u001b[0m\u001b[0mX\u001b[0m\u001b[1;33m)\u001b[0m\u001b[1;33m\u001b[0m\u001b[0m\n\u001b[0m\u001b[0;32m    203\u001b[0m         \u001b[0mself\u001b[0m\u001b[1;33m.\u001b[0m\u001b[0m_fit_transform\u001b[0m\u001b[1;33m(\u001b[0m\u001b[0mK\u001b[0m\u001b[1;33m)\u001b[0m\u001b[1;33m\u001b[0m\u001b[0m\n\u001b[0;32m    204\u001b[0m \u001b[1;33m\u001b[0m\u001b[0m\n",
      "\u001b[1;32mC:\\Anaconda\\lib\\site-packages\\sklearn\\decomposition\\kernel_pca.pyc\u001b[0m in \u001b[0;36m_get_kernel\u001b[1;34m(self, X, Y)\u001b[0m\n\u001b[0;32m    133\u001b[0m                       \"coef0\": self.coef0}\n\u001b[0;32m    134\u001b[0m         return pairwise_kernels(X, Y, metric=self.kernel,\n\u001b[1;32m--> 135\u001b[1;33m                                 filter_params=True, **params)\n\u001b[0m\u001b[0;32m    136\u001b[0m \u001b[1;33m\u001b[0m\u001b[0m\n\u001b[0;32m    137\u001b[0m     \u001b[1;32mdef\u001b[0m \u001b[0m_fit_transform\u001b[0m\u001b[1;33m(\u001b[0m\u001b[0mself\u001b[0m\u001b[1;33m,\u001b[0m \u001b[0mK\u001b[0m\u001b[1;33m)\u001b[0m\u001b[1;33m:\u001b[0m\u001b[1;33m\u001b[0m\u001b[0m\n",
      "\u001b[1;32mC:\\Anaconda\\lib\\site-packages\\sklearn\\metrics\\pairwise.pyc\u001b[0m in \u001b[0;36mpairwise_kernels\u001b[1;34m(X, Y, metric, filter_params, n_jobs, **kwds)\u001b[0m\n\u001b[0;32m   1345\u001b[0m         \u001b[1;32mraise\u001b[0m \u001b[0mValueError\u001b[0m\u001b[1;33m(\u001b[0m\u001b[1;34m\"Unknown kernel %r\"\u001b[0m \u001b[1;33m%\u001b[0m \u001b[0mmetric\u001b[0m\u001b[1;33m)\u001b[0m\u001b[1;33m\u001b[0m\u001b[0m\n\u001b[0;32m   1346\u001b[0m \u001b[1;33m\u001b[0m\u001b[0m\n\u001b[1;32m-> 1347\u001b[1;33m     \u001b[1;32mreturn\u001b[0m \u001b[0m_parallel_pairwise\u001b[0m\u001b[1;33m(\u001b[0m\u001b[0mX\u001b[0m\u001b[1;33m,\u001b[0m \u001b[0mY\u001b[0m\u001b[1;33m,\u001b[0m \u001b[0mfunc\u001b[0m\u001b[1;33m,\u001b[0m \u001b[0mn_jobs\u001b[0m\u001b[1;33m,\u001b[0m \u001b[1;33m**\u001b[0m\u001b[0mkwds\u001b[0m\u001b[1;33m)\u001b[0m\u001b[1;33m\u001b[0m\u001b[0m\n\u001b[0m",
      "\u001b[1;32mC:\\Anaconda\\lib\\site-packages\\sklearn\\metrics\\pairwise.pyc\u001b[0m in \u001b[0;36m_parallel_pairwise\u001b[1;34m(X, Y, func, n_jobs, **kwds)\u001b[0m\n\u001b[0;32m   1052\u001b[0m     \u001b[1;32mif\u001b[0m \u001b[0mn_jobs\u001b[0m \u001b[1;33m==\u001b[0m \u001b[1;36m1\u001b[0m\u001b[1;33m:\u001b[0m\u001b[1;33m\u001b[0m\u001b[0m\n\u001b[0;32m   1053\u001b[0m         \u001b[1;31m# Special case to avoid picklability checks in delayed\u001b[0m\u001b[1;33m\u001b[0m\u001b[1;33m\u001b[0m\u001b[0m\n\u001b[1;32m-> 1054\u001b[1;33m         \u001b[1;32mreturn\u001b[0m \u001b[0mfunc\u001b[0m\u001b[1;33m(\u001b[0m\u001b[0mX\u001b[0m\u001b[1;33m,\u001b[0m \u001b[0mY\u001b[0m\u001b[1;33m,\u001b[0m \u001b[1;33m**\u001b[0m\u001b[0mkwds\u001b[0m\u001b[1;33m)\u001b[0m\u001b[1;33m\u001b[0m\u001b[0m\n\u001b[0m\u001b[0;32m   1055\u001b[0m \u001b[1;33m\u001b[0m\u001b[0m\n\u001b[0;32m   1056\u001b[0m     \u001b[1;31m# TODO: in some cases, backend='threading' may be appropriate\u001b[0m\u001b[1;33m\u001b[0m\u001b[1;33m\u001b[0m\u001b[0m\n",
      "\u001b[1;32mC:\\Anaconda\\lib\\site-packages\\sklearn\\metrics\\pairwise.pyc\u001b[0m in \u001b[0;36msigmoid_kernel\u001b[1;34m(X, Y, gamma, coef0)\u001b[0m\n\u001b[0;32m    774\u001b[0m         \u001b[0mgamma\u001b[0m \u001b[1;33m=\u001b[0m \u001b[1;36m1.0\u001b[0m \u001b[1;33m/\u001b[0m \u001b[0mX\u001b[0m\u001b[1;33m.\u001b[0m\u001b[0mshape\u001b[0m\u001b[1;33m[\u001b[0m\u001b[1;36m1\u001b[0m\u001b[1;33m]\u001b[0m\u001b[1;33m\u001b[0m\u001b[0m\n\u001b[0;32m    775\u001b[0m \u001b[1;33m\u001b[0m\u001b[0m\n\u001b[1;32m--> 776\u001b[1;33m     \u001b[0mK\u001b[0m \u001b[1;33m=\u001b[0m \u001b[0msafe_sparse_dot\u001b[0m\u001b[1;33m(\u001b[0m\u001b[0mX\u001b[0m\u001b[1;33m,\u001b[0m \u001b[0mY\u001b[0m\u001b[1;33m.\u001b[0m\u001b[0mT\u001b[0m\u001b[1;33m,\u001b[0m \u001b[0mdense_output\u001b[0m\u001b[1;33m=\u001b[0m\u001b[0mTrue\u001b[0m\u001b[1;33m)\u001b[0m\u001b[1;33m\u001b[0m\u001b[0m\n\u001b[0m\u001b[0;32m    777\u001b[0m     \u001b[0mK\u001b[0m \u001b[1;33m*=\u001b[0m \u001b[0mgamma\u001b[0m\u001b[1;33m\u001b[0m\u001b[0m\n\u001b[0;32m    778\u001b[0m     \u001b[0mK\u001b[0m \u001b[1;33m+=\u001b[0m \u001b[0mcoef0\u001b[0m\u001b[1;33m\u001b[0m\u001b[0m\n",
      "\u001b[1;32mC:\\Anaconda\\lib\\site-packages\\sklearn\\utils\\extmath.pyc\u001b[0m in \u001b[0;36msafe_sparse_dot\u001b[1;34m(a, b, dense_output)\u001b[0m\n\u001b[0;32m    177\u001b[0m     \"\"\"\n\u001b[0;32m    178\u001b[0m     \u001b[1;32mif\u001b[0m \u001b[0missparse\u001b[0m\u001b[1;33m(\u001b[0m\u001b[0ma\u001b[0m\u001b[1;33m)\u001b[0m \u001b[1;32mor\u001b[0m \u001b[0missparse\u001b[0m\u001b[1;33m(\u001b[0m\u001b[0mb\u001b[0m\u001b[1;33m)\u001b[0m\u001b[1;33m:\u001b[0m\u001b[1;33m\u001b[0m\u001b[0m\n\u001b[1;32m--> 179\u001b[1;33m         \u001b[0mret\u001b[0m \u001b[1;33m=\u001b[0m \u001b[0ma\u001b[0m \u001b[1;33m*\u001b[0m \u001b[0mb\u001b[0m\u001b[1;33m\u001b[0m\u001b[0m\n\u001b[0m\u001b[0;32m    180\u001b[0m         \u001b[1;32mif\u001b[0m \u001b[0mdense_output\u001b[0m \u001b[1;32mand\u001b[0m \u001b[0mhasattr\u001b[0m\u001b[1;33m(\u001b[0m\u001b[0mret\u001b[0m\u001b[1;33m,\u001b[0m \u001b[1;34m\"toarray\"\u001b[0m\u001b[1;33m)\u001b[0m\u001b[1;33m:\u001b[0m\u001b[1;33m\u001b[0m\u001b[0m\n\u001b[0;32m    181\u001b[0m             \u001b[0mret\u001b[0m \u001b[1;33m=\u001b[0m \u001b[0mret\u001b[0m\u001b[1;33m.\u001b[0m\u001b[0mtoarray\u001b[0m\u001b[1;33m(\u001b[0m\u001b[1;33m)\u001b[0m\u001b[1;33m\u001b[0m\u001b[0m\n",
      "\u001b[1;32mC:\\Anaconda\\lib\\site-packages\\scipy\\sparse\\base.pyc\u001b[0m in \u001b[0;36m__mul__\u001b[1;34m(self, other)\u001b[0m\n\u001b[0;32m    316\u001b[0m             \u001b[1;32mif\u001b[0m \u001b[0mself\u001b[0m\u001b[1;33m.\u001b[0m\u001b[0mshape\u001b[0m\u001b[1;33m[\u001b[0m\u001b[1;36m1\u001b[0m\u001b[1;33m]\u001b[0m \u001b[1;33m!=\u001b[0m \u001b[0mother\u001b[0m\u001b[1;33m.\u001b[0m\u001b[0mshape\u001b[0m\u001b[1;33m[\u001b[0m\u001b[1;36m0\u001b[0m\u001b[1;33m]\u001b[0m\u001b[1;33m:\u001b[0m\u001b[1;33m\u001b[0m\u001b[0m\n\u001b[0;32m    317\u001b[0m                 \u001b[1;32mraise\u001b[0m \u001b[0mValueError\u001b[0m\u001b[1;33m(\u001b[0m\u001b[1;34m'dimension mismatch'\u001b[0m\u001b[1;33m)\u001b[0m\u001b[1;33m\u001b[0m\u001b[0m\n\u001b[1;32m--> 318\u001b[1;33m             \u001b[1;32mreturn\u001b[0m \u001b[0mself\u001b[0m\u001b[1;33m.\u001b[0m\u001b[0m_mul_sparse_matrix\u001b[0m\u001b[1;33m(\u001b[0m\u001b[0mother\u001b[0m\u001b[1;33m)\u001b[0m\u001b[1;33m\u001b[0m\u001b[0m\n\u001b[0m\u001b[0;32m    319\u001b[0m \u001b[1;33m\u001b[0m\u001b[0m\n\u001b[0;32m    320\u001b[0m         \u001b[1;32mtry\u001b[0m\u001b[1;33m:\u001b[0m\u001b[1;33m\u001b[0m\u001b[0m\n",
      "\u001b[1;32mC:\\Anaconda\\lib\\site-packages\\scipy\\sparse\\compressed.pyc\u001b[0m in \u001b[0;36m_mul_sparse_matrix\u001b[1;34m(self, other)\u001b[0m\n\u001b[0;32m    505\u001b[0m                                     maxval=nnz)\n\u001b[0;32m    506\u001b[0m         \u001b[0mindptr\u001b[0m \u001b[1;33m=\u001b[0m \u001b[0mnp\u001b[0m\u001b[1;33m.\u001b[0m\u001b[0masarray\u001b[0m\u001b[1;33m(\u001b[0m\u001b[0mindptr\u001b[0m\u001b[1;33m,\u001b[0m \u001b[0mdtype\u001b[0m\u001b[1;33m=\u001b[0m\u001b[0midx_dtype\u001b[0m\u001b[1;33m)\u001b[0m\u001b[1;33m\u001b[0m\u001b[0m\n\u001b[1;32m--> 507\u001b[1;33m         \u001b[0mindices\u001b[0m \u001b[1;33m=\u001b[0m \u001b[0mnp\u001b[0m\u001b[1;33m.\u001b[0m\u001b[0mempty\u001b[0m\u001b[1;33m(\u001b[0m\u001b[0mnnz\u001b[0m\u001b[1;33m,\u001b[0m \u001b[0mdtype\u001b[0m\u001b[1;33m=\u001b[0m\u001b[0midx_dtype\u001b[0m\u001b[1;33m)\u001b[0m\u001b[1;33m\u001b[0m\u001b[0m\n\u001b[0m\u001b[0;32m    508\u001b[0m         \u001b[0mdata\u001b[0m \u001b[1;33m=\u001b[0m \u001b[0mnp\u001b[0m\u001b[1;33m.\u001b[0m\u001b[0mempty\u001b[0m\u001b[1;33m(\u001b[0m\u001b[0mnnz\u001b[0m\u001b[1;33m,\u001b[0m \u001b[0mdtype\u001b[0m\u001b[1;33m=\u001b[0m\u001b[0mupcast\u001b[0m\u001b[1;33m(\u001b[0m\u001b[0mself\u001b[0m\u001b[1;33m.\u001b[0m\u001b[0mdtype\u001b[0m\u001b[1;33m,\u001b[0m \u001b[0mother\u001b[0m\u001b[1;33m.\u001b[0m\u001b[0mdtype\u001b[0m\u001b[1;33m)\u001b[0m\u001b[1;33m)\u001b[0m\u001b[1;33m\u001b[0m\u001b[0m\n\u001b[0;32m    509\u001b[0m \u001b[1;33m\u001b[0m\u001b[0m\n",
      "\u001b[1;31mMemoryError\u001b[0m: "
     ]
    }
   ],
   "source": [
    "import matplotlib.pyplot as plt\n",
    "from sklearn.decomposition import KernelPCA\n",
    "plt.clf()\n",
    "#x=range(1,len(pca.explained_variance_ratio_)+1)\n",
    "x1=[]\n",
    "y1=[]\n",
    "x2=[]\n",
    "y2=[]\n",
    "\n",
    "kpca = KernelPCA(n_components=2,kernel='sigmoid')\n",
    "red_features = kpca.fit_transform(svm_features,labels)\n",
    "for i,t in enumerate(red_features):\n",
    "    if labels[i] == 1:\n",
    "        x1.append(t[0])\n",
    "        y1.append(t[1])\n",
    "    else:\n",
    "        x2.append(t[0])\n",
    "        y2.append(t[1])\n",
    "\n",
    "plt.scatter(x2,y2,marker='.',color='b',alpha=0.66,label='failure')\n",
    "plt.scatter(x1,y1,marker='.',color='r',alpha=0.33,label='success')\n",
    "\n",
    "plt.legend(loc=4)\n",
    "\n",
    "\n",
    "plt.ylabel('Component 2')\n",
    "plt.xlabel('Component 1')\n",
    "plt.xlim([-1200,1000])\n",
    "plt.title('Projection of first two components')\n",
    "\n",
    "\n",
    "plt.show()"
   ]
  },
  {
   "cell_type": "code",
   "execution_count": 69,
   "metadata": {
    "collapsed": false
   },
   "outputs": [
    {
     "name": "stdout",
     "output_type": "stream",
     "text": [
      "0.997857166796\n",
      "0.999936254908\n",
      "0.999985377244\n",
      "0.9999878914\n",
      "0.999989374564\n",
      "0.999990479455\n",
      "0.999991440926\n",
      "0.999992296898\n",
      "0.999992878216\n",
      "0.999993326989\n",
      "0.999993487627\n",
      "0.999993631201\n",
      "0.99999376745\n",
      "0.999993902919\n",
      "0.999994037489\n",
      "0.999994169612\n",
      "0.99999429954\n",
      "0.999994427628\n",
      "0.999994555023\n",
      "0.999994680657\n",
      "0.999994806013\n",
      "0.999994930626\n",
      "0.99999505496\n",
      "0.999995178869\n",
      "0.99999530173\n",
      "0.99999542389\n",
      "0.999995545831\n",
      "0.999995666749\n",
      "0.999995787228\n",
      "0.999995907126\n",
      "0.99999602674\n",
      "0.999996145353\n",
      "0.999996263527\n",
      "0.999996380921\n",
      "0.999996497579\n",
      "0.999996613251\n",
      "0.999996728464\n",
      "0.999996842749\n",
      "0.99999695688\n",
      "0.999997070084\n",
      "0.999997183053\n",
      "0.999997286893\n",
      "0.999997386596\n",
      "0.999997485373\n",
      "0.999997583456\n",
      "0.999997680792\n",
      "0.999997777765\n",
      "0.999997873958\n",
      "0.999997969572\n",
      "0.999998064704\n",
      "0.999998159661\n",
      "0.999998254065\n",
      "0.999998348131\n",
      "0.999998441892\n",
      "0.999998534355\n",
      "0.999998626586\n",
      "0.999998718064\n",
      "0.999998809292\n",
      "0.999998899398\n",
      "0.999998988872\n",
      "0.999999078011\n",
      "0.999999166836\n",
      "0.999999254694\n",
      "0.999999342317\n",
      "0.999999428543\n",
      "0.999999514297\n",
      "0.999999594963\n",
      "0.999999675164\n",
      "0.999999754546\n",
      "0.999999833491\n",
      "0.999999904705\n",
      "0.999999958169\n",
      "1.0\n",
      "1.0\n",
      "1.0\n",
      "1.0\n",
      "1.0\n"
     ]
    }
   ],
   "source": [
    "import matplotlib.pyplot as plt\n",
    "\n",
    "plt.clf()\n",
    "x=range(1,len(pca.explained_variance_ratio_)+1)\n",
    "y = []\n",
    "for i,v in enumerate(pca.explained_variance_ratio_):\n",
    "    t = sum(pca.explained_variance_ratio_[:i+1])\n",
    "    print t\n",
    "    y.append(t)\n",
    "\n",
    "\n",
    "plt.plot(x,y,marker='o')\n",
    "plt.yscale('log')\n",
    "plt.ylim([0.000000001,1])\n",
    "plt.ylabel('Variance ratio')\n",
    "plt.xlabel('Component')\n",
    "plt.title('PCA on training data')\n",
    "\n",
    "\n",
    "plt.show()"
   ]
  },
  {
   "cell_type": "code",
   "execution_count": 89,
   "metadata": {
    "collapsed": false
   },
   "outputs": [
    {
     "name": "stdout",
     "output_type": "stream",
     "text": [
      "6048\n",
      "**********************************\n",
      "Recall: 50.8390918065 %\n",
      "Precision: 53.2299741602 %\n",
      "Accuracy: 68.5681216931 %\n",
      "**********************************\n",
      "[[3117  905]\n",
      " [ 996 1030]]\n"
     ]
    }
   ],
   "source": [
    "from sklearn.cross_validation import train_test_split\n",
    "from sklearn.metrics import confusion_matrix\n",
    "from sklearn import svm\n",
    "import feat\n",
    "reload(feat)\n",
    "(team_features,team_labels) = feat.get_team_features('NE', features, labels,feature_name='team')\n",
    "\n",
    "(svm_features, encoder) = encode_categorical_features(team_features)\n",
    "\n",
    "clf = tree.DecisionTreeClassifier(max_depth=2,class_weight='balanced')\n",
    "cm = evaluate.clf_evaluate(clf,svm_features,team_labels)\n",
    "\n",
    "evaluate.plot_tree(clf,encoder.feature_names_)\n",
    "print cm"
   ]
  },
  {
   "cell_type": "code",
   "execution_count": 90,
   "metadata": {
    "collapsed": false
   },
   "outputs": [
    {
     "name": "stdout",
     "output_type": "stream",
     "text": [
      "5435\n",
      "**********************************\n",
      "Recall: 38.2746051033 %\n",
      "Precision: 37.4109263658 %\n",
      "Accuracy: 61.9135234591 %\n",
      "**********************************\n",
      "[[2735 1054]\n",
      " [1016  630]]\n"
     ]
    }
   ],
   "source": [
    "from sklearn.cross_validation import train_test_split\n",
    "from sklearn.metrics import confusion_matrix\n",
    "from sklearn import svm\n",
    "import feat\n",
    "reload(feat)\n",
    "(team_features,team_labels) = feat.get_team_features('NO', features, labels,feature_name='opponent')\n",
    "\n",
    "(svm_features, encoder) = encode_categorical_features(team_features)\n",
    "\n",
    "classifier = svm.SVC(class_weight='balanced')\n",
    "cm = evaluate.clf_evaluate(classifier,svm_features,team_labels)\n",
    "print cm"
   ]
  },
  {
   "cell_type": "code",
   "execution_count": null,
   "metadata": {
    "collapsed": false,
    "scrolled": true
   },
   "outputs": [],
   "source": [
    "encoder.vocabulary_"
   ]
  },
  {
   "cell_type": "code",
   "execution_count": 1,
   "metadata": {
    "collapsed": true
   },
   "outputs": [],
   "source": [
    "#import pickle\n",
    "#reduced_features = pickle.load( open( \"features_pca1.p\", \"rb\" ) )"
   ]
  },
  {
   "cell_type": "code",
   "execution_count": 24,
   "metadata": {
    "collapsed": false
   },
   "outputs": [
    {
     "name": "stdout",
     "output_type": "stream",
     "text": [
      "**********************************\n",
      "Accuracy: 67.5923157212 %\n",
      "Precision: 46.5255450788 %\n",
      "Recall: 65.8565500889 %\n",
      "F1: 54.5284706665 %\n",
      "**********************************\n"
     ]
    }
   ],
   "source": [
    "import evaluate\n",
    "from sklearn import tree\n",
    "reload(evaluate)\n",
    "clf = tree.DecisionTreeClassifier(max_depth=8,class_weight='balanced')\n",
    "cm = evaluate.clf_evaluate(clf,svm_features, labels)\n",
    "\n",
    "#evaluate.plot_confusion_matrix(cm)"
   ]
  },
  {
   "cell_type": "code",
   "execution_count": 8,
   "metadata": {
    "collapsed": false
   },
   "outputs": [
    {
     "name": "stdout",
     "output_type": "stream",
     "text": [
      "1 ...\n",
      "**********************************\n",
      "Accuracy: 69.196 %\n",
      "Precision: 47.891 %\n",
      "Recall: 49.965 %\n",
      "F1: 48.906 %\n",
      "**********************************\n",
      "2 ...\n",
      "**********************************\n",
      "Accuracy: 69.196 %\n",
      "Precision: 47.891 %\n",
      "Recall: 49.965 %\n",
      "F1: 48.906 %\n",
      "**********************************\n",
      "4 ...\n",
      "**********************************\n",
      "Accuracy: 68.940 %\n",
      "Precision: 47.847 %\n",
      "Recall: 58.558 %\n",
      "F1: 52.663 %\n",
      "**********************************\n",
      "6 ...\n",
      "**********************************\n",
      "Accuracy: 67.135 %\n",
      "Precision: 46.079 %\n",
      "Recall: 66.904 %\n",
      "F1: 54.573 %\n",
      "**********************************\n",
      "8 ...\n",
      "**********************************\n",
      "Accuracy: 67.589 %\n",
      "Precision: 46.521 %\n",
      "Recall: 65.851 %\n",
      "F1: 54.524 %\n",
      "**********************************\n",
      "10 ...\n",
      "**********************************\n",
      "Accuracy: 67.164 %\n",
      "Precision: 46.054 %\n",
      "Recall: 65.868 %\n",
      "F1: 54.207 %\n",
      "**********************************\n",
      "12 ...\n",
      "**********************************\n",
      "Accuracy: 66.966 %\n",
      "Precision: 45.798 %\n",
      "Recall: 65.166 %\n",
      "F1: 53.792 %\n",
      "**********************************\n",
      "15 ...\n",
      "**********************************\n",
      "Accuracy: 65.957 %\n",
      "Precision: 44.703 %\n",
      "Recall: 64.887 %\n",
      "F1: 52.936 %\n",
      "**********************************\n",
      "**********************************\n",
      "Accuracy: 64.321 %\n",
      "Precision: 40.143 %\n",
      "Recall: 42.607 %\n",
      "F1: 41.338 %\n",
      "**********************************\n",
      "\n"
     ]
    }
   ],
   "source": [
    "from sklearn import tree\n",
    "import evaluate\n",
    "reload(evaluate)\n",
    "import matplotlib.pyplot as plt\n",
    "\n",
    "mae_list = []\n",
    "rmse_list = []\n",
    "x = [1,2,4,6,8,10,12,15]\n",
    "for i in x:\n",
    "    print i,'...'\n",
    "    clf = tree.DecisionTreeClassifier(max_depth=i,class_weight='balanced')\n",
    "    diffs = evaluate.clf_evaluate(clf,svm_features, labels)\n",
    "    #mae_list.append(mae)\n",
    "    #rmse_list.append(rmse)\n",
    "    \n",
    "\n",
    "clf = tree.DecisionTreeClassifier(class_weight='balanced')\n",
    "diffs = evaluate.clf_evaluate(clf,svm_features,labels)\n",
    "print \"\"\n",
    "#plt.hist(diffs,bins = 100)\n",
    "#plt.xlabel('Difference [yards]')\n",
    "#plt.show()\n",
    "\n",
    "#evaluate.plot_tree(clf,encoder.feature_names_)\n"
   ]
  },
  {
   "cell_type": "code",
   "execution_count": 6,
   "metadata": {
    "collapsed": false
   },
   "outputs": [
    {
     "name": "stdout",
     "output_type": "stream",
     "text": [
      "1 ...\n",
      "MAE: 5.7434 / RMSE: 8.4103\n",
      "2 ...\n",
      "MAE: 5.6762 / RMSE: 8.3468\n",
      "4 ...\n",
      "MAE: 5.5134 / RMSE: 8.2730\n",
      "6 ...\n",
      "MAE: 5.4943 / RMSE: 8.2682\n",
      "8 ...\n",
      "MAE: 5.4906 / RMSE: 8.2991\n",
      "10 ...\n",
      "MAE: 5.5137 / RMSE: 8.3870\n",
      "12 ...\n",
      "MAE: 5.5520 / RMSE: 8.5435\n",
      "15 ...\n",
      "MAE: 5.6350 / RMSE: 8.8265\n",
      "MAE: 7.2699 / RMSE: 11.7828\n",
      "\n"
     ]
    }
   ],
   "source": [
    "from sklearn import tree\n",
    "import evaluate\n",
    "reload(evaluate)\n",
    "import matplotlib.pyplot as plt\n",
    "\n",
    "mae_list = []\n",
    "rmse_list = []\n",
    "x = [1,2,4,6,8,10,12,15]\n",
    "for i in x:\n",
    "    print i,'...'\n",
    "    clf = tree.DecisionTreeRegressor(max_depth=i)\n",
    "    diffs = evaluate.reg_evaluate(clf,svm_features, yard_labels)\n",
    "    #mae_list.append(mae)\n",
    "    #rmse_list.append(rmse)\n",
    "    \n",
    "\n",
    "clf = tree.DecisionTreeRegressor()\n",
    "diffs = evaluate.reg_evaluate(clf,svm_features,yard_labels)\n",
    "print \"\"\n",
    "#plt.hist(diffs,bins = 100)\n",
    "#plt.xlabel('Difference [yards]')\n",
    "#plt.show()\n",
    "\n",
    "#evaluate.plot_tree(clf,encoder.feature_names_)\n"
   ]
  },
  {
   "cell_type": "code",
   "execution_count": null,
   "metadata": {
    "collapsed": false
   },
   "outputs": [],
   "source": [
    "plt.clf()\n",
    "plt.plot()"
   ]
  },
  {
   "cell_type": "code",
   "execution_count": 67,
   "metadata": {
    "collapsed": false
   },
   "outputs": [
    {
     "name": "stdout",
     "output_type": "stream",
     "text": [
      "[[22986  8237]\n",
      " [ 7690  5399]]\n"
     ]
    }
   ],
   "source": [
    "from sklearn.cross_validation import train_test_split\n",
    "from sklearn.metrics import confusion_matrix\n",
    "from sklearn import svm\n",
    "\n",
    "classifier = svm.SVC(class_weight='balanced')\n",
    "\n",
    "X_train, X_test, y_train, y_test = train_test_split(reduced_features, labels)\n",
    "# Run classifier\n",
    "y_pred = classifier.fit(X_train, y_train).predict(X_test)\n",
    "\n",
    "# Compute confusion matrix\n",
    "cm = confusion_matrix(y_test, y_pred)\n",
    "print cm"
   ]
  },
  {
   "cell_type": "code",
   "execution_count": null,
   "metadata": {
    "collapsed": false
   },
   "outputs": [],
   "source": [
    "from sklearn.externals import joblib\n",
    "joblib.dump(classifier, 'svm_pca6.pkl') \n",
    "#clf = joblib.load('svm_pca6.pkl') "
   ]
  },
  {
   "cell_type": "code",
   "execution_count": 36,
   "metadata": {
    "collapsed": false
   },
   "outputs": [],
   "source": []
  },
  {
   "cell_type": "code",
   "execution_count": 16,
   "metadata": {
    "collapsed": false
   },
   "outputs": [
    {
     "name": "stdout",
     "output_type": "stream",
     "text": [
      "**********************************\n",
      "Accuracy: 69.1963101921 %\n",
      "Precision: 47.891350965 %\n",
      "Recall: 49.9646251219 %\n",
      "F1: 48.906024818 %\n",
      "**********************************\n",
      "[[96517 28431]\n",
      " [26167 26130]]\n"
     ]
    }
   ],
   "source": [
    "import evaluate\n",
    "from sklearn import tree\n",
    "from sklearn.cross_validation import train_test_split\n",
    "from sklearn.metrics import confusion_matrix\n",
    "reload(evaluate)\n",
    "\n",
    "clf = tree.DecisionTreeClassifier(max_depth=1,class_weight='balanced')\n",
    "cm = evaluate.clf_evaluate(clf,svm_features,labels)\n",
    "#,class_weight='balanced'\n",
    "evaluate.plot_tree(clf,encoder.feature_names_)\n",
    "\n",
    "print cm\n"
   ]
  },
  {
   "cell_type": "markdown",
   "metadata": {},
   "source": []
  },
  {
   "cell_type": "code",
   "execution_count": 3,
   "metadata": {
    "collapsed": false
   },
   "outputs": [
    {
     "ename": "NameError",
     "evalue": "name 'classifier' is not defined",
     "output_type": "error",
     "traceback": [
      "\u001b[1;31m---------------------------------------------------------------------------\u001b[0m",
      "\u001b[1;31mNameError\u001b[0m                                 Traceback (most recent call last)",
      "\u001b[1;32m<ipython-input-3-b3977ddc817d>\u001b[0m in \u001b[0;36m<module>\u001b[1;34m()\u001b[0m\n\u001b[0;32m      2\u001b[0m \u001b[1;33m\u001b[0m\u001b[0m\n\u001b[0;32m      3\u001b[0m \u001b[1;31m#Train classifier\u001b[0m\u001b[1;33m\u001b[0m\u001b[1;33m\u001b[0m\u001b[0m\n\u001b[1;32m----> 4\u001b[1;33m \u001b[0mclassifier\u001b[0m\u001b[1;33m.\u001b[0m\u001b[0mfit\u001b[0m\u001b[1;33m(\u001b[0m\u001b[0msvm_features\u001b[0m\u001b[1;33m,\u001b[0m \u001b[0mlabels\u001b[0m\u001b[1;33m)\u001b[0m\u001b[1;33m\u001b[0m\u001b[0m\n\u001b[0m\u001b[0;32m      5\u001b[0m \u001b[1;33m\u001b[0m\u001b[0m\n\u001b[0;32m      6\u001b[0m \u001b[1;31m#Predict result for play\u001b[0m\u001b[1;33m\u001b[0m\u001b[1;33m\u001b[0m\u001b[0m\n",
      "\u001b[1;31mNameError\u001b[0m: name 'classifier' is not defined"
     ]
    }
   ],
   "source": [
    "#Example\n",
    "\n",
    "#Train classifier\n",
    "classifier.fit(svm_features, labels)  \n",
    "\n",
    "#Predict result for play\n",
    "X = defaultdict(float)\n",
    "X['team'] = \"SEA\"\n",
    "X['opponent'] = \"NE\"\n",
    "X['time'] = 26\n",
    "X['half'] = 1 \n",
    "X['position'] = 1\n",
    "X['half'] = 2\n",
    "X['togo'] = 1\n",
    "X['shotgun'] = 1\n",
    "X['pass'] = 1\n",
    "X['passlen'] = 'short'\n",
    "X['side'] = 'right'\n",
    "X['qbrun'] = 0\n",
    "X = encoder.transform(X)\n",
    "\n",
    "y_pred = clf.predict(X)\n",
    "print prediction"
   ]
  },
  {
   "cell_type": "code",
   "execution_count": 2,
   "metadata": {
    "collapsed": false
   },
   "outputs": [],
   "source": [
    "from __future__ import division\n",
    "import matplotlib.pyplot as plt\n",
    "import numpy as np\n",
    "\n",
    "x = np.linspace(0,15,75)\n",
    "y1 = []\n",
    "y2 = []\n",
    "y3 = []\n",
    "\n",
    "for i in x:\n",
    "    \n",
    "    if i < 10.0:\n",
    "        y3.append(0.0)\n",
    "        y1.append(i/10.0)\n",
    "        y2.append((i/10.0)**2)\n",
    "    else:\n",
    "        y3.append(1.0)\n",
    "        y1.append(1.0)\n",
    "        y2.append(1.0)\n",
    "\n",
    "plt.clf()\n",
    "plt.plot(x,y1,label='1st down')\n",
    "plt.plot(x,y2,label='2nd down')\n",
    "plt.plot(x,y3,label='3rd/4th down')\n",
    "plt.ylim([0,1.1])\n",
    "plt.xlim([0,13])\n",
    "plt.legend(loc=2)\n",
    "plt.xticks([0,5,10], ['0','togo/2','togo'])\n",
    "plt.ylabel('Progress score')\n",
    "plt.xlabel('Distance')\n",
    "plt.title('Progress label')\n",
    "\n",
    "plt.show()"
   ]
  },
  {
   "cell_type": "code",
   "execution_count": 1,
   "metadata": {
    "collapsed": false
   },
   "outputs": [],
   "source": [
    "from __future__ import division\n",
    "import matplotlib.pyplot as plt\n",
    "import numpy as np\n",
    "\n",
    "x = np.linspace(0,15,75)\n",
    "y1 = []\n",
    "y2 = []\n",
    "y3 = []\n",
    "\n",
    "\n",
    "for i in x:\n",
    "    \n",
    "    if i < 10.0:\n",
    "        y3.append(0.0)\n",
    "        y1.append((i*2)/10.0)\n",
    "        y2.append(i/10.0)\n",
    "    else:\n",
    "        y3.append(1 + float(i - 10.0) / 10.0)\n",
    "        y1.append(1 + float(i - 10.0) / 10.0)\n",
    "        y2.append(1 + float(i - 10.0) / 10.0)\n",
    "\n",
    "plt.clf()\n",
    "plt.plot(x,y1,label='1st down')\n",
    "plt.plot(x,y2,label='2nd down')\n",
    "plt.plot(x,y3,label='3rd/4th down')\n",
    "plt.ylim([0,2.2])\n",
    "plt.xlim([0,15])\n",
    "plt.legend(loc=2)\n",
    "plt.xticks([0,5,10], ['0','togo/2','togo'])\n",
    "plt.ylabel('Progress score')\n",
    "plt.xlabel('Distance')\n",
    "plt.title('Progress label (Version 1)')\n",
    "\n",
    "plt.show()"
   ]
  },
  {
   "cell_type": "code",
   "execution_count": null,
   "metadata": {
    "collapsed": true
   },
   "outputs": [],
   "source": []
  }
 ],
 "metadata": {
  "kernelspec": {
   "display_name": "Python 2",
   "language": "python",
   "name": "python2"
  },
  "language_info": {
   "codemirror_mode": {
    "name": "ipython",
    "version": 2
   },
   "file_extension": ".py",
   "mimetype": "text/x-python",
   "name": "python",
   "nbconvert_exporter": "python",
   "pygments_lexer": "ipython2",
   "version": "2.7.10"
  }
 },
 "nbformat": 4,
 "nbformat_minor": 0
}
