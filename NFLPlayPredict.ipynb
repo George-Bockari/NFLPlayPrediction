{
 "cells": [
  {
   "cell_type": "code",
   "execution_count": 1,
   "metadata": {
    "collapsed": true
   },
   "outputs": [],
   "source": [
    "#Load games\n",
    "\n",
    "import nflgame\n",
    "games = nflgame.games(2015, week=1)"
   ]
  },
  {
   "cell_type": "code",
   "execution_count": 3,
   "metadata": {
    "collapsed": false
   },
   "outputs": [
    {
     "name": "stdout",
     "output_type": "stream",
     "text": [
      "1962\n"
     ]
    }
   ],
   "source": [
    "# Extract features\n",
    "import re\n",
    "from collections import defaultdict\n",
    "\n",
    "play_features = []\n",
    "\n",
    "for p in nflgame.combine_plays(games).limit(100000):\n",
    "    features = defaultdict(float)\n",
    "    if (p.note == None or p.note== 'TD' or p.note=='INT') and ('punt' not in p.desc) and ('END ' not in p.desc) and ('End ' not in p.desc) \\\n",
    "    and ('Two-Minute Warning' not in p.desc) and ('spiked the ball to stop the clock' not in p.desc) \\\n",
    "    and ('Delay of Game' not in p.desc):\n",
    "        #print \"Description:\",p.desc\n",
    "        \n",
    "        features['team'] = p.team        \n",
    "        features['time'] = p.time.clock\n",
    "        features['quarter'] = p.time.qtr            \n",
    "        features['position'] = 50-p.yardline.offset\n",
    "        features['down'] = p.down\n",
    "        features['togo'] = p.yards_togo\n",
    "        \n",
    "        if 'Shotgun' in p.desc:\n",
    "                    features['shotgun'] = 1\n",
    "                \n",
    "        if 'incomplete' in p.desc:\n",
    "            features['complete'] = 0\n",
    "            features['pass'] = 1\n",
    "            rematch = re.search(r'incomplete \\S+ \\S+ to', p.desc)\n",
    "            \n",
    "            if rematch is None:\n",
    "                # ball just thrown away, no intended target -> ignore\n",
    "                continue;\n",
    "                \n",
    "            match = rematch.group(0).split()            \n",
    "            features['dist'] = match[1]\n",
    "            features['side'] = match[2]\n",
    "        else:\n",
    "            if 'no gain' in p.desc:\n",
    "                features['yards'] = 0\n",
    "            else:\n",
    "                if p.note=='INT':\n",
    "                    features['intercepted'] = 1 \n",
    "                else:                \n",
    "                    rematch = re.search(r'[-]?[0-9]+ yard\\s?', p.desc) \n",
    "                    if rematch is None:\n",
    "                        print p.note\n",
    "                        print p.desc\n",
    "                    match = rematch.group(0)         \n",
    "                    features['yards'] = float(match[:match.find(' ')])\n",
    "            \n",
    "            if 'pass' in p.desc:\n",
    "                features['pass'] = 1\n",
    "                match = re.search(r'pass \\S+ \\S+', p.desc).group(0).split()\n",
    "                features['dist'] = match[1]\n",
    "                features['side'] = match[2]\n",
    "                \n",
    "                if p.note!='INT':\n",
    "                    features['complete'] = 1 \n",
    "            else:\n",
    "                features['pass'] = 0\n",
    "                if 'up to the middle' in p.desc:\n",
    "                    features['side'] = 'middle'\n",
    "                else:\n",
    "                    rematch = re.search(r'\\S+\\.\\S+ \\S+ \\S+', p.desc)                    \n",
    "                    match = rematch.group(0).split()\n",
    "                    features['side'] = match[1] + ' ' + match[2]\n",
    "                \n",
    "            if features['yards'] >= p.yards_togo:\n",
    "                features['firstdown'] = 1\n",
    "            if p.touchdown == True:\n",
    "                features['touchdown'] = 1\n",
    "        #print features\n",
    "        play_features.append(features)\n",
    "    #else:\n",
    "    #    print \">> Ignore:\",p.note,'-> '+ p.desc\n",
    "print len(play_features)\n",
    "        "
   ]
  },
  {
   "cell_type": "code",
   "execution_count": null,
   "metadata": {
    "collapsed": true
   },
   "outputs": [],
   "source": []
  }
 ],
 "metadata": {
  "kernelspec": {
   "display_name": "Python 2",
   "language": "python",
   "name": "python2"
  },
  "language_info": {
   "codemirror_mode": {
    "name": "ipython",
    "version": 2
   },
   "file_extension": ".py",
   "mimetype": "text/x-python",
   "name": "python",
   "nbconvert_exporter": "python",
   "pygments_lexer": "ipython2",
   "version": "2.7.10"
  }
 },
 "nbformat": 4,
 "nbformat_minor": 0
}
