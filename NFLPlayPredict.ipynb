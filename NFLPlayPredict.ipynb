{
 "cells": [
  {
   "cell_type": "code",
   "execution_count": 4,
   "metadata": {
    "collapsed": false,
    "scrolled": true
   },
   "outputs": [
    {
     "name": "stdout",
     "output_type": "stream",
     "text": [
      "177245\n"
     ]
    }
   ],
   "source": [
    "import random\n",
    "from __future__ import division\n",
    "import svmprediction\n",
    "reload(svmprediction)\n",
    "import features\n",
    "reload(features)\n",
    "from features import extract_features\n",
    "from features import encode_categorical_features\n",
    "from sklearn import svm\n",
    "\n",
    "(features, labels, _, _) = extract_features(2009, 2014)\n"
   ]
  },
  {
   "cell_type": "code",
   "execution_count": 2,
   "metadata": {
    "collapsed": false
   },
   "outputs": [
    {
     "name": "stdout",
     "output_type": "stream",
     "text": [
      "[ 0.99785717]\n"
     ]
    }
   ],
   "source": [
    "import dimreduction\n",
    "reload(dimreduction)\n",
    "\n",
    "(svm_features, encoder) = encode_categorical_features(features)\n",
    "(reduced_features, pca) = dimreduction.pca(svm_features.toarray(), 1)\n",
    "\n",
    "#import pickle\n",
    "#pickle.dump( reduced_features, open( \"features_pca1.p\", \"wb\" ) )"
   ]
  },
  {
   "cell_type": "code",
   "execution_count": 1,
   "metadata": {
    "collapsed": true
   },
   "outputs": [],
   "source": [
    "#import pickle\n",
    "#reduced_features = pickle.load( open( \"features_pca1.p\", \"rb\" ) )"
   ]
  },
  {
   "cell_type": "code",
   "execution_count": 6,
   "metadata": {
    "collapsed": false
   },
   "outputs": [],
   "source": [
    "from sklearn.cross_validation import train_test_split\n",
    "from sklearn.metrics import confusion_matrix\n",
    "from sklearn import svm\n",
    "\n",
    "classifier = svm.SVC(class_weight='auto')\n",
    "\n",
    "X_train, X_test, y_train, y_test = train_test_split(reduced_features, labels)\n",
    "# Run classifier\n",
    "y_pred = classifier.fit(X_train, y_train).predict(X_test)\n",
    "\n",
    "# Compute confusion matrix\n",
    "cm = confusion_matrix(y_test, y_pred)"
   ]
  },
  {
   "cell_type": "code",
   "execution_count": 7,
   "metadata": {
    "collapsed": false
   },
   "outputs": [
    {
     "name": "stdout",
     "output_type": "stream",
     "text": [
      "[[14913 16273]\n",
      " [ 6097  7029]]\n"
     ]
    }
   ],
   "source": [
    "print cm"
   ]
  },
  {
   "cell_type": "code",
   "execution_count": 23,
   "metadata": {
    "collapsed": true
   },
   "outputs": [],
   "source": [
    "#classifier = svm.SVC()\n",
    "#cm = svmprediction.plot_confusion_matrix(classifier,reduced_features,labels)"
   ]
  },
  {
   "cell_type": "code",
   "execution_count": 10,
   "metadata": {
    "collapsed": false
   },
   "outputs": [
    {
     "name": "stdout",
     "output_type": "stream",
     "text": [
      "[[14913 16273]\n",
      " [ 6097  7029]]\n",
      "Recall: 29.0195145169 %\n",
      "Precision: 46.4497943014 %\n",
      "Accuracy: 49.5170608413 %\n"
     ]
    }
   ],
   "source": [
    "import numpy as np\n",
    "import matplotlib.pyplot as plt\n",
    "\n",
    "recall = cm[1][0] / (cm[0][0] + cm[1][0])\n",
    "precision = cm[1][0] / (cm[1][0] + cm[1][1])\n",
    "accuracy = (cm[0][0] + cm[1][1]) / (cm[0][0] + cm[0][1] + cm[1][0] + cm[1][1])\n",
    "\n",
    "print(cm)\n",
    "print \"Recall:\", recall * 100, '%'\n",
    "print \"Precision:\", precision * 100, '%'\n",
    "print \"Accuracy:\", accuracy * 100, '%'\n",
    "\n",
    "# Show confusion matrix in a separate window\n",
    "cm_normalized = cm.astype('float') / cm.sum(axis=1)[:, np.newaxis]*100.0\n",
    "\n",
    "\n",
    "\n",
    "plt.matshow(cm_normalized)\n",
    "#plt.gca().set_aspect(1)\n",
    "\n",
    "width = len(cm)\n",
    "height = len(cm[0])\n",
    "\n",
    "for x in xrange(width):\n",
    "    for y in xrange(height):\n",
    "        plt.gca().annotate(\"{:5.2f} %\".format(cm_normalized[x][y]), xy=(y, x), \n",
    "                    horizontalalignment='center',\n",
    "                    verticalalignment='center')\n",
    "\n",
    "tick_labels = ['Fail','Success']\n",
    "plt.xticks(range(width), tick_labels)\n",
    "plt.yticks(range(height), tick_labels)\n",
    "\n",
    "plt.title('Normalized confusion matrix')\n",
    "plt.colorbar()\n",
    "plt.ylabel('True label')\n",
    "plt.xlabel('Predicted label')\n",
    "plt.show()"
   ]
  },
  {
   "cell_type": "code",
   "execution_count": 3,
   "metadata": {
    "collapsed": false
   },
   "outputs": [
    {
     "ename": "NameError",
     "evalue": "name 'classifier' is not defined",
     "output_type": "error",
     "traceback": [
      "\u001b[1;31m---------------------------------------------------------------------------\u001b[0m",
      "\u001b[1;31mNameError\u001b[0m                                 Traceback (most recent call last)",
      "\u001b[1;32m<ipython-input-3-08f59e0ce9fa>\u001b[0m in \u001b[0;36m<module>\u001b[1;34m()\u001b[0m\n\u001b[0;32m      2\u001b[0m \u001b[1;33m\u001b[0m\u001b[0m\n\u001b[0;32m      3\u001b[0m \u001b[1;31m#Train classifier\u001b[0m\u001b[1;33m\u001b[0m\u001b[1;33m\u001b[0m\u001b[0m\n\u001b[1;32m----> 4\u001b[1;33m \u001b[0mclassifier\u001b[0m\u001b[1;33m.\u001b[0m\u001b[0mfit\u001b[0m\u001b[1;33m(\u001b[0m\u001b[0msvm_features\u001b[0m\u001b[1;33m,\u001b[0m \u001b[0mlabels\u001b[0m\u001b[1;33m)\u001b[0m\u001b[1;33m\u001b[0m\u001b[0m\n\u001b[0m\u001b[0;32m      5\u001b[0m \u001b[1;33m\u001b[0m\u001b[0m\n\u001b[0;32m      6\u001b[0m \u001b[1;31m#Predict result for play\u001b[0m\u001b[1;33m\u001b[0m\u001b[1;33m\u001b[0m\u001b[0m\n",
      "\u001b[1;31mNameError\u001b[0m: name 'classifier' is not defined"
     ]
    }
   ],
   "source": [
    "#Example\n",
    "\n",
    "#Train classifier\n",
    "classifier.fit(svm_features, labels)  \n",
    "\n",
    "#Predict result for play\n",
    "X = defaultdict(float)\n",
    "X['team'] = \"GB\"\n",
    "X['opponent'] = \"NYG\"\n",
    "X['time'] = 425\n",
    "X['half'] = 1 \n",
    "X['position'] = 10\n",
    "X['half'] = 2\n",
    "X['togo'] = 10\n",
    "X['shotgun'] = 0\n",
    "X['pass'] = 1\n",
    "X['passlen'] = 'short'\n",
    "X['side'] = 'left'\n",
    "X['qbrun'] = 0\n",
    "X = encoder.transform(X)\n",
    "\n",
    "y_pred = clf.predict(X)\n",
    "print prediction"
   ]
  },
  {
   "cell_type": "code",
   "execution_count": null,
   "metadata": {
    "collapsed": true
   },
   "outputs": [],
   "source": []
  }
 ],
 "metadata": {
  "kernelspec": {
   "display_name": "Python 2",
   "language": "python",
   "name": "python2"
  },
  "language_info": {
   "codemirror_mode": {
    "name": "ipython",
    "version": 2
   },
   "file_extension": ".py",
   "mimetype": "text/x-python",
   "name": "python",
   "nbconvert_exporter": "python",
   "pygments_lexer": "ipython2",
   "version": "2.7.10"
  }
 },
 "nbformat": 4,
 "nbformat_minor": 0
}
