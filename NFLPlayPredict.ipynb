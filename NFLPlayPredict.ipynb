{
 "cells": [
  {
   "cell_type": "code",
   "execution_count": 22,
   "metadata": {
    "collapsed": true
   },
   "outputs": [],
   "source": [
    "#Load games\n",
    "\n",
    "import nflgame\n",
    "games = nflgame.games(2014)"
   ]
  },
  {
   "cell_type": "code",
   "execution_count": 26,
   "metadata": {
    "collapsed": false,
    "scrolled": true
   },
   "outputs": [
    {
     "name": "stdout",
     "output_type": "stream",
     "text": [
      "29630\n"
     ]
    }
   ],
   "source": [
    "# Extract features\n",
    "import re\n",
    "from collections import defaultdict\n",
    "import random\n",
    "import numpy as np\n",
    "\n",
    "\n",
    "play_features = []\n",
    "success_labels = []\n",
    "yard_labels = []\n",
    "success_cnt = 0\n",
    "\n",
    "random.seed()\n",
    "for p in nflgame.combine_plays(games).limit(5000000):\n",
    "    features = defaultdict(float)\n",
    "    success = 0\n",
    "    yards = 0\n",
    "    desc = ''\n",
    "    if (p.note == None or p.note== 'TD' or p.note=='INT') \\\n",
    "    and (' punt' not in p.desc) \\\n",
    "    and ('END ' != p.desc[:4]) \\\n",
    "    and ('End ' != p.desc[:4]) \\\n",
    "    and ('Two-Minute Warning' not in p.desc) \\\n",
    "    and ('spiked the ball to stop the clock' not in p.desc) \\\n",
    "    and ('kneels to ' not in p.desc) \\\n",
    "    and ('Delay of Game' not in p.desc)\\\n",
    "    and (p.time is not None)\\\n",
    "    and ('Penalty on' not in p.desc)\\\n",
    "    and ('Delay of Game' not in p.desc)\\\n",
    "    and ('sacked at' not in p.desc)\\\n",
    "    and ('Punt formation' not in p.desc)\\\n",
    "    and ('Direct snap to' not in p.desc)\\\n",
    "    and ('Aborted' not in p.desc):\n",
    "        \n",
    "        features['team'] = p.team            \n",
    "        if p.drive.game.away == p.team:\n",
    "            features['opponent'] = p.drive.game.home\n",
    "        else:\n",
    "            features['opponent'] = p.drive.game.away        \n",
    "        timeclock = p.time.clock.split(':')\n",
    "        features['time'] = float(timeclock[0])*60 + float(timeclock[1])\n",
    "        features['quarter'] = p.time.qtr            \n",
    "        features['position'] = 50-p.yardline.offset\n",
    "        features['down'] = p.down\n",
    "        features['togo'] = p.yards_togo\n",
    "\n",
    "        if 'Shotgun' in p.desc:\n",
    "            features['shotgun'] = 1\n",
    "        \n",
    "        sentences = p.desc.split('. ')\n",
    "        for i in range(len(sentences)):\n",
    "            if 'reported in as eligible' in sentences[i]:\n",
    "                continue\n",
    "                \n",
    "            if (re.search(r'in at QB$', desc) is not None):\n",
    "                continue\n",
    "            \n",
    "            if ' in at QB' in sentences[i]:\n",
    "                sentences[i] = re.sub(r\"^.+ in at QB\", \"\", sentences[i]).strip()\n",
    "                \n",
    "            desc = sentences[i]\n",
    "            desc = re.sub(r\"\\(.+?\\)\", \"\", desc).strip()\n",
    "\n",
    "            if ((re.search(r'to \\S+$', desc) is not None) or (re.search(r'^\\S+$', desc) is not None)) and (i<len(sentences)-1):\n",
    "                desc = desc + '.' + re.sub(r\"\\(.+?\\)\", \"\", sentences[i+1]).strip()\n",
    "\n",
    "            if ((i<len(sentences)-1) and (sentences[i+1][:3] == 'to ')):\n",
    "                desc = desc + '.' + re.sub(r\"\\(.+?\\)\", \"\", sentences[i+1]).strip()\n",
    "\n",
    "            if (re.search(r'^\\S+\\.\\S+ ', desc) is not None): \n",
    "                break\n",
    "                \n",
    "                \n",
    "        if 'incomplete' in desc:\n",
    "            features['pass'] = 1\n",
    "            rematch = re.search(r'incomplete \\S+ \\S+ to ', desc)\n",
    "            \n",
    "            if rematch is None:\n",
    "                # ball just thrown away, no intended target -> ignore\n",
    "                continue;\n",
    "                \n",
    "            match = rematch.group(0).split()            \n",
    "            features['passlen'] = match[1]\n",
    "            features['side'] = match[2]\n",
    "        else:\n",
    "            if 'no gain' in desc:\n",
    "                yards = 0\n",
    "            else:\n",
    "                if (p.note!='INT') and ('INTERCEPTED' not in desc):         \n",
    "                    rematch = re.search(r'[-]?[0-9]+ yard\\s?', desc) \n",
    "                    match = rematch.group(0)         \n",
    "                    yards = float(match[:match.find(' ')])\n",
    "            \n",
    "            if ' pass ' in desc:\n",
    "                features['pass'] = 1\n",
    "                match = re.search(r'pass \\S+ \\S+', desc).group(0).split()\n",
    "                if match[1] == 'to':\n",
    "                    continue\n",
    "                features['passlen'] = match[1]\n",
    "                features['side'] = match[2]\n",
    "            else:\n",
    "                features['pass'] = 0\n",
    "                if 'up the middle' in desc:\n",
    "                    features['side'] = 'middle'\n",
    "                else:               \n",
    "                    rematch = re.search(r'^\\S+ (scrambles )?\\S+ \\S+', desc) \n",
    "                    if rematch is None:\n",
    "                        print desc\n",
    "                        print p.desc\n",
    "                    offset = 0\n",
    "                    match = rematch.group(0).split()\n",
    "                    if match[1] == 'scrambles':\n",
    "                        features['qbrun'] = 1\n",
    "                        offset = 1\n",
    "                    \n",
    "                    features['side'] = match[1+offset] + ' ' + match[2+offset]\n",
    "                \n",
    "            if (p.note=='INT') or ('INTERCEPTED' in desc) :\n",
    "                success = 0\n",
    "            elif (p.touchdown == True) and (' fumble' not in p.desc):\n",
    "                success = 1\n",
    "                success_cnt += 1\n",
    "            elif (yards >= p.yards_togo): \n",
    "                success = 1\n",
    "                success_cnt += 1\n",
    "                \n",
    "        \n",
    "                        \n",
    "        play_features.append(features)\n",
    "        success_labels.append(success)\n",
    "        yard_labels.append(yards)\n",
    "\n",
    "    # Debug information\n",
    "    #if random.randint(0,1000) < 2:\n",
    "    #    print desc\n",
    "    #    print p.desc\n",
    "    #    print features\n",
    "    #    print 'SUCCESS:',success,'| YARDS:',yards\n",
    "    #    print \"############################################################\"\n",
    "    \n",
    "success_labels = np.array(success_labels)\n",
    "print len(play_features)\n",
    "        "
   ]
  },
  {
   "cell_type": "code",
   "execution_count": 36,
   "metadata": {
    "collapsed": false
   },
   "outputs": [
    {
     "name": "stdout",
     "output_type": "stream",
     "text": [
      "Positive: 8840 / 29630 -> 29.8346270672 %\n"
     ]
    }
   ],
   "source": [
    "positive = sum(success_labels)\n",
    "print \"Positive:\",positive,'/',len(success_labels),\"->\",(positive / len(success_labels))*100,\"%\""
   ]
  },
  {
   "cell_type": "code",
   "execution_count": 27,
   "metadata": {
    "collapsed": false
   },
   "outputs": [],
   "source": [
    "# Encode categorical features\n",
    "from sklearn.feature_extraction import DictVectorizer\n",
    "import numpy as np\n",
    "\n",
    "enc = DictVectorizer()\n",
    "enc.fit(play_features)  \n",
    "svm_features = enc.transform(play_features)  \n"
   ]
  },
  {
   "cell_type": "code",
   "execution_count": null,
   "metadata": {
    "collapsed": true
   },
   "outputs": [],
   "source": [
    "#Example\n",
    "\n",
    "#Train classifier\n",
    "from sklearn import svm\n",
    "clf = svm.SVC()\n",
    "clf.fit(svm_features, success_labels)  \n",
    "\n",
    "#Predict result for play\n",
    "features = defaultdict(float)\n",
    "features['team'] = \"GB\"\n",
    "features['opponent'] = \"NYG\"\n",
    "features['time'] = 425\n",
    "features['quarter'] = 4 \n",
    "features['position'] = 10\n",
    "features['down'] = 3\n",
    "features['togo'] = 10\n",
    "features['shotgun'] = 0\n",
    "features['pass'] = 1\n",
    "features['passlen'] = 'short'\n",
    "features['side'] = 'left'\n",
    "features['qbrun'] = 0\n",
    "svm_feats = enc.transform(features)\n",
    "\n",
    "prediction = clf.predict(svm_feats)\n",
    "print prediction"
   ]
  },
  {
   "cell_type": "code",
   "execution_count": 83,
   "metadata": {
    "collapsed": false
   },
   "outputs": [
    {
     "name": "stdout",
     "output_type": "stream",
     "text": [
      "Iteration #1... 62.6826029216 %\n",
      "Iteration #2... 61.8027888446 %\n",
      "Iteration #3... 61.1332447986 %\n",
      "Iteration #4... 61.5505935088 %\n",
      "Iteration #5... 61.5553194315 %\n",
      "Iteration #6... 61.5418672865 %\n",
      "Total Accuray: 61.5418672865 %\n"
     ]
    }
   ],
   "source": [
    "#Simple K-Fold cross validation\n",
    "from sklearn import svm\n",
    "from sklearn.cross_validation import KFold\n",
    "from __future__ import division\n",
    "\n",
    "k = 6\n",
    "\n",
    "clf = svm.SVC()\n",
    "cv = KFold(len(YY), k, shuffle=True)\n",
    "\n",
    "#iterate through the training and test cross validation segments and run the classifier on each one\n",
    "success_cnt = 0\n",
    "total_cnt = 0\n",
    "iteration = 0\n",
    "for traincv, testcv in cv:\n",
    "    iteration = iteration+1\n",
    "    print \"Iteration #\"+str(iteration)+\"...\",\n",
    "    X_train = XX[traincv]\n",
    "    Y_train = YY[traincv]\n",
    "    X_test = XX[testcv]\n",
    "    Y_test = YY[testcv]\n",
    "    \n",
    "    Y_pred = clf.fit(X_train, Y_train).predict(X_test)\n",
    "    \n",
    "    for i in range(len(Y_pred)):\n",
    "        total_cnt += 1\n",
    "        if Y_pred[i] == Y_test[i]:\n",
    "            success_cnt += 1\n",
    "    print (success_cnt / total_cnt)*100,\"%\"\n",
    "        \n",
    "\n",
    "print \"[Done]\""
   ]
  },
  {
   "cell_type": "code",
   "execution_count": null,
   "metadata": {
    "collapsed": true
   },
   "outputs": [],
   "source": []
  }
 ],
 "metadata": {
  "kernelspec": {
   "display_name": "Python 2",
   "language": "python",
   "name": "python2"
  },
  "language_info": {
   "codemirror_mode": {
    "name": "ipython",
    "version": 2
   },
   "file_extension": ".py",
   "mimetype": "text/x-python",
   "name": "python",
   "nbconvert_exporter": "python",
   "pygments_lexer": "ipython2",
   "version": "2.7.10"
  }
 },
 "nbformat": 4,
 "nbformat_minor": 0
}
