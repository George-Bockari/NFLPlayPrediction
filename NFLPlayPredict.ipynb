{
 "cells": [
  {
   "cell_type": "code",
   "execution_count": 1,
   "metadata": {
    "collapsed": true
   },
   "outputs": [],
   "source": [
    "#Load games\n",
    "\n",
    "import nflgame\n",
    "games = nflgame.games(2015, week=1)"
   ]
  },
  {
   "cell_type": "code",
   "execution_count": 83,
   "metadata": {
    "collapsed": false,
    "scrolled": false
   },
   "outputs": [
    {
     "name": "stdout",
     "output_type": "stream",
     "text": [
      "1872\n"
     ]
    }
   ],
   "source": [
    "# Extract features\n",
    "import re\n",
    "from collections import defaultdict\n",
    "import random\n",
    "import numpy as np\n",
    "\n",
    "\n",
    "play_features = []\n",
    "success_labels = []\n",
    "yard_labels = []\n",
    "\n",
    "random.seed()\n",
    "for p in nflgame.combine_plays(games).limit(50000):\n",
    "    features = defaultdict(float)\n",
    "    success = 0\n",
    "    yards = 0\n",
    "    if (p.note == None or p.note== 'TD' or p.note=='INT') and (' punt' not in p.desc) and ('END ' != p.desc[:4]) and ('End ' != p.desc[:4]) \\\n",
    "    and ('Two-Minute Warning' not in p.desc) and ('spiked the ball to stop the clock' not in p.desc) and ('kneels to ' not in p.desc) \\\n",
    "    and ('Delay of Game' not in p.desc):\n",
    "        \n",
    "        features['team'] = p.team    \n",
    "        timeclock = p.time.clock.split(':')\n",
    "        features['time'] = float(timeclock[0])*60 + float(timeclock[1])\n",
    "        features['quarter'] = p.time.qtr            \n",
    "        features['position'] = 50-p.yardline.offset\n",
    "        features['down'] = p.down\n",
    "        features['togo'] = p.yards_togo\n",
    "        \n",
    "        if 'sacked at' in p.desc:\n",
    "            continue\n",
    "        \n",
    "        if 'Shotgun' in p.desc:\n",
    "            features['shotgun'] = 1\n",
    "                \n",
    "        if 'incomplete' in p.desc:\n",
    "            features['pass'] = 1\n",
    "            rematch = re.search(r'incomplete \\S+ \\S+ to ', p.desc)\n",
    "            \n",
    "            if rematch is None:\n",
    "                # ball just thrown away, no intended target -> ignore\n",
    "                continue;\n",
    "                \n",
    "            match = rematch.group(0).split()            \n",
    "            features['passlen'] = match[1]\n",
    "            features['side'] = match[2]\n",
    "        else:\n",
    "            if 'no gain' in p.desc:\n",
    "                yards = 0\n",
    "            else:\n",
    "                if p.note!='INT':         \n",
    "                    rematch = re.search(r'[-]?[0-9]+ yard\\s?', p.desc) \n",
    "                    match = rematch.group(0)         \n",
    "                    yards = float(match[:match.find(' ')])\n",
    "            \n",
    "            if ' pass ' in p.desc:\n",
    "                features['pass'] = 1\n",
    "                match = re.search(r'pass \\S+ \\S+', p.desc).group(0).split()\n",
    "                if match[1] == 'to':\n",
    "                    continue\n",
    "                features['passlen'] = match[1]\n",
    "                features['side'] = match[2]\n",
    "            else:\n",
    "                features['pass'] = 0\n",
    "                if 'up the middle' in p.desc:\n",
    "                    features['side'] = 'middle'\n",
    "                else:\n",
    "                    if 'reported in as eligible' in p.desc:\n",
    "                        rematch = re.search(r'\\S+\\.\\S+ (scrambles )?\\S+ \\S+', p.desc[p.desc.find('.  ')+3:])  \n",
    "                    else:                    \n",
    "                        rematch = re.search(r'\\S+\\.\\S+ (scrambles )?\\S+ \\S+', p.desc)                    \n",
    "                    match = rematch.group(0).split()\n",
    "                        \n",
    "                    offset = 0\n",
    "                    if match[1] == 'scrambles':\n",
    "                        offset = 1\n",
    "                        features['qbrun'] = 1\n",
    "                    \n",
    "                    features['side'] = match[1+offset] + ' ' + match[2+offset]\n",
    "                \n",
    "            if p.note=='INT':\n",
    "                success = 0\n",
    "            elif (p.touchdown == True) and (' fumble' not in p.desc):\n",
    "                success = 1\n",
    "            elif (yards >= p.yards_togo): \n",
    "                success = 1\n",
    "                \n",
    "        \n",
    "                        \n",
    "        play_features.append(features)\n",
    "        success_labels.append(success)\n",
    "        yard_labels.append(yards)\n",
    "\n",
    "    # Debug information\n",
    "    #if random.randint(0,1000) < 10:\n",
    "    #    print p.desc\n",
    "    #    print features\n",
    "    #    print \"############################################################\"\n",
    "    \n",
    "success_labels = np.array(success_labels)\n",
    "print len(play_features)\n",
    "        "
   ]
  },
  {
   "cell_type": "code",
   "execution_count": 84,
   "metadata": {
    "collapsed": false
   },
   "outputs": [],
   "source": [
    "# Encode categorical features\n",
    "from sklearn.feature_extraction import DictVectorizer\n",
    "import numpy as np\n",
    "\n",
    "enc = DictVectorizer()\n",
    "enc.fit(play_features)  \n",
    "svm_features = enc.transform(play_features)  \n"
   ]
  },
  {
   "cell_type": "code",
   "execution_count": 85,
   "metadata": {
    "collapsed": false
   },
   "outputs": [
    {
     "data": {
      "text/plain": [
       "<1872x55 sparse matrix of type '<type 'numpy.float64'>'\n",
       "\twith 17204 stored elements in Compressed Sparse Row format>"
      ]
     },
     "execution_count": 85,
     "metadata": {},
     "output_type": "execute_result"
    }
   ],
   "source": [
    "svm_features"
   ]
  },
  {
   "cell_type": "code",
   "execution_count": 86,
   "metadata": {
    "collapsed": false
   },
   "outputs": [
    {
     "data": {
      "text/plain": [
       "SVC(C=1.0, cache_size=200, class_weight=None, coef0=0.0, degree=3, gamma=0.0,\n",
       "  kernel='rbf', max_iter=-1, probability=False, random_state=None,\n",
       "  shrinking=True, tol=0.001, verbose=False)"
      ]
     },
     "execution_count": 86,
     "metadata": {},
     "output_type": "execute_result"
    }
   ],
   "source": [
    "#Train classifier\n",
    "from sklearn import svm\n",
    "clf = svm.SVC()\n",
    "clf.fit(svm_features, success_labels)  \n"
   ]
  },
  {
   "cell_type": "code",
   "execution_count": 76,
   "metadata": {
    "collapsed": false
   },
   "outputs": [
    {
     "data": {
      "text/plain": [
       "array([0])"
      ]
     },
     "execution_count": 76,
     "metadata": {},
     "output_type": "execute_result"
    }
   ],
   "source": [
    "#Predict result for play\n",
    "features = defaultdict(float)\n",
    "features['team'] = \"GB\"\n",
    "features['time'] = 425\n",
    "features['quarter'] = 4 \n",
    "features['position'] = 10\n",
    "features['down'] = 3\n",
    "features['togo'] = 10\n",
    "features['shotgun'] = 0\n",
    "features['pass'] = 1\n",
    "features['passlen'] = 'short'\n",
    "features['side'] = 'left'\n",
    "features['qbrun'] = 0\n",
    "svm_feats = enc.transform(features)\n",
    "\n",
    "clf.predict(svm_feats)"
   ]
  },
  {
   "cell_type": "code",
   "execution_count": 88,
   "metadata": {
    "collapsed": false
   },
   "outputs": [
    {
     "name": "stdout",
     "output_type": "stream",
     "text": [
      "Accuray: 68.2692307692 %\n"
     ]
    }
   ],
   "source": [
    "#Simple K-Fold cross validation. 10 folds\n",
    "\n",
    "from sklearn.cross_validation import KFold\n",
    "from __future__ import division\n",
    "\n",
    "cv = KFold(len(success_labels), 10)\n",
    "\n",
    "#iterate through the training and test cross validation segments and\n",
    "#run the classifier on each one, aggregating the results into a list\n",
    "success_cnt = 0\n",
    "total_cnt = 0\n",
    "for traincv, testcv in cv:\n",
    "    X_train = svm_features[traincv]\n",
    "    Y_train = success_labels[traincv]\n",
    "    X_test = svm_features[testcv]\n",
    "    Y_test = success_labels[testcv]\n",
    "    \n",
    "    Y_pred = clf.fit(X_train, Y_train).predict(X_test)\n",
    "    \n",
    "    for i in range(len(Y_pred)):\n",
    "        total_cnt += 1\n",
    "        if Y_pred[i] == Y_test[i]:\n",
    "            success_cnt += 1\n",
    "        \n",
    "\n",
    "#print out the mean of the cross-validated results\n",
    "print \"Accuray:\",(success_cnt / total_cnt)*100,\"%\""
   ]
  },
  {
   "cell_type": "code",
   "execution_count": null,
   "metadata": {
    "collapsed": true
   },
   "outputs": [],
   "source": []
  }
 ],
 "metadata": {
  "kernelspec": {
   "display_name": "Python 2",
   "language": "python",
   "name": "python2"
  },
  "language_info": {
   "codemirror_mode": {
    "name": "ipython",
    "version": 2
   },
   "file_extension": ".py",
   "mimetype": "text/x-python",
   "name": "python",
   "nbconvert_exporter": "python",
   "pygments_lexer": "ipython2",
   "version": "2.7.10"
  }
 },
 "nbformat": 4,
 "nbformat_minor": 0
}
