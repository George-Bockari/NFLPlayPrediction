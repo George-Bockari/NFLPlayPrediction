{
 "cells": [
  {
   "cell_type": "code",
   "execution_count": null,
   "metadata": {
    "collapsed": false,
    "scrolled": true
   },
   "outputs": [],
   "source": [
    "import random\n",
    "from __future__ import division\n",
    "import svmprediction\n",
    "reload(svmprediction)\n",
    "import features\n",
    "reload(features)\n",
    "from features import extract_features\n",
    "from features import encode_categorical_features\n",
    "from sklearn import svm\n",
    "\n",
    "(features, labels, yard_labels, _) = extract_features(2009, 2014)\n"
   ]
  },
  {
   "cell_type": "code",
   "execution_count": 4,
   "metadata": {
    "collapsed": false
   },
   "outputs": [
    {
     "name": "stdout",
     "output_type": "stream",
     "text": [
      "[  9.97857167e-01   2.07908811e-03   4.91223361e-05   2.51415598e-06\n",
      "   1.48316376e-06   1.10489155e-06]\n"
     ]
    }
   ],
   "source": [
    "import dimreduction\n",
    "reload(dimreduction)\n",
    "\n",
    "(svm_features, encoder) = encode_categorical_features(features)\n",
    "(reduced_features, pca) = dimreduction.pca(svm_features.toarray(), 6)\n",
    "print sum(pca.explained_variance_ratio_), pca.noise_variance_\n",
    "\n",
    "#import pickle\n",
    "#pickle.dump( reduced_features, open( \"features_pca1.p\", \"wb\" ) )"
   ]
  },
  {
   "cell_type": "code",
   "execution_count": 12,
   "metadata": {
    "collapsed": false,
    "scrolled": true
   },
   "outputs": [
    {
     "data": {
      "text/plain": [
       "{'down': 0,\n",
       " 'half': 1,\n",
       " u'opponent=ARI': 2,\n",
       " u'opponent=ATL': 3,\n",
       " u'opponent=BAL': 4,\n",
       " u'opponent=BUF': 5,\n",
       " u'opponent=CAR': 6,\n",
       " u'opponent=CHI': 7,\n",
       " u'opponent=CIN': 8,\n",
       " u'opponent=CLE': 9,\n",
       " u'opponent=DAL': 10,\n",
       " u'opponent=DEN': 11,\n",
       " u'opponent=DET': 12,\n",
       " u'opponent=GB': 13,\n",
       " u'opponent=HOU': 14,\n",
       " u'opponent=IND': 15,\n",
       " u'opponent=JAC': 16,\n",
       " u'opponent=KC': 17,\n",
       " u'opponent=MIA': 18,\n",
       " u'opponent=MIN': 19,\n",
       " u'opponent=NE': 20,\n",
       " u'opponent=NO': 21,\n",
       " u'opponent=NYG': 22,\n",
       " u'opponent=NYJ': 23,\n",
       " u'opponent=OAK': 24,\n",
       " u'opponent=PHI': 25,\n",
       " u'opponent=PIT': 26,\n",
       " u'opponent=SD': 27,\n",
       " u'opponent=SEA': 28,\n",
       " u'opponent=SF': 29,\n",
       " u'opponent=STL': 30,\n",
       " u'opponent=TB': 31,\n",
       " u'opponent=TEN': 32,\n",
       " u'opponent=WAS': 33,\n",
       " 'pass': 34,\n",
       " u'passlen=deep': 35,\n",
       " u'passlen=short': 36,\n",
       " 'position': 37,\n",
       " 'qbrun': 38,\n",
       " 'shotgun': 39,\n",
       " u'side=left': 40,\n",
       " 'side=middle': 41,\n",
       " u'side=right': 42,\n",
       " u'team=ARI': 43,\n",
       " u'team=ATL': 44,\n",
       " u'team=BAL': 45,\n",
       " u'team=BUF': 46,\n",
       " u'team=CAR': 47,\n",
       " u'team=CHI': 48,\n",
       " u'team=CIN': 49,\n",
       " u'team=CLE': 50,\n",
       " u'team=DAL': 51,\n",
       " u'team=DEN': 52,\n",
       " u'team=DET': 53,\n",
       " u'team=GB': 54,\n",
       " u'team=HOU': 55,\n",
       " u'team=IND': 56,\n",
       " u'team=JAC': 57,\n",
       " u'team=KC': 58,\n",
       " u'team=MIA': 59,\n",
       " u'team=MIN': 60,\n",
       " u'team=NE': 61,\n",
       " u'team=NO': 62,\n",
       " u'team=NYG': 63,\n",
       " u'team=NYJ': 64,\n",
       " u'team=OAK': 65,\n",
       " u'team=PHI': 66,\n",
       " u'team=PIT': 67,\n",
       " u'team=SD': 68,\n",
       " u'team=SEA': 69,\n",
       " u'team=SF': 70,\n",
       " u'team=STL': 71,\n",
       " u'team=TB': 72,\n",
       " u'team=TEN': 73,\n",
       " u'team=WAS': 74,\n",
       " 'time': 75,\n",
       " 'togo': 76}"
      ]
     },
     "execution_count": 12,
     "metadata": {},
     "output_type": "execute_result"
    }
   ],
   "source": [
    "encoder.vocabulary_"
   ]
  },
  {
   "cell_type": "code",
   "execution_count": 1,
   "metadata": {
    "collapsed": true
   },
   "outputs": [],
   "source": [
    "#import pickle\n",
    "#reduced_features = pickle.load( open( \"features_pca1.p\", \"rb\" ) )"
   ]
  },
  {
   "cell_type": "code",
   "execution_count": 35,
   "metadata": {
    "collapsed": false
   },
   "outputs": [
    {
     "name": "stdout",
     "output_type": "stream",
     "text": [
      "**********************************\n",
      "Recall: 65.6166373576 %\n",
      "Precision: 46.4338660982 %\n",
      "Accuracy: 67.5094782452 %\n",
      "**********************************\n"
     ]
    },
    {
     "data": {
      "text/plain": [
       "array([[213328,  99002],\n",
       "       [ 44970,  85820]])"
      ]
     },
     "execution_count": 35,
     "metadata": {},
     "output_type": "execute_result"
    }
   ],
   "source": [
    "import evaluate\n",
    "reload(evaluate)\n",
    "clf = tree.DecisionTreeClassifier(max_depth=8,class_weight='balanced')\n",
    "evaluate.clf_evaluate(clf,svm_features, labels)\n"
   ]
  },
  {
   "cell_type": "code",
   "execution_count": 39,
   "metadata": {
    "collapsed": false
   },
   "outputs": [
    {
     "name": "stdout",
     "output_type": "stream",
     "text": [
      "7.24255029989\n"
     ]
    }
   ],
   "source": [
    "from sklearn import tree\n",
    "reload(evaluate)\n",
    "\n",
    "clf = tree.DecisionTreeRegressor()\n",
    "diffs = evaluate.reg_evaluate(clf,svm_features, yard_labels,max_iter=3)\n",
    "\n",
    "plt.hist(diffs,bins = 100)\n",
    "plt.xlabel('Difference [yards]')\n",
    "plt.show()\n"
   ]
  },
  {
   "cell_type": "code",
   "execution_count": null,
   "metadata": {
    "collapsed": false
   },
   "outputs": [],
   "source": []
  },
  {
   "cell_type": "code",
   "execution_count": 67,
   "metadata": {
    "collapsed": false
   },
   "outputs": [
    {
     "name": "stdout",
     "output_type": "stream",
     "text": [
      "[[22986  8237]\n",
      " [ 7690  5399]]\n"
     ]
    }
   ],
   "source": [
    "from sklearn.cross_validation import train_test_split\n",
    "from sklearn.metrics import confusion_matrix\n",
    "from sklearn import svm\n",
    "\n",
    "classifier = svm.SVC(class_weight='balanced')\n",
    "\n",
    "X_train, X_test, y_train, y_test = train_test_split(reduced_features, labels)\n",
    "# Run classifier\n",
    "y_pred = classifier.fit(X_train, y_train).predict(X_test)\n",
    "\n",
    "# Compute confusion matrix\n",
    "cm = confusion_matrix(y_test, y_pred)\n",
    "print cm"
   ]
  },
  {
   "cell_type": "code",
   "execution_count": null,
   "metadata": {
    "collapsed": false
   },
   "outputs": [],
   "source": [
    "from sklearn.externals import joblib\n",
    "joblib.dump(classifier, 'svm_pca6.pkl') \n",
    "#clf = joblib.load('svm_pca6.pkl') "
   ]
  },
  {
   "cell_type": "code",
   "execution_count": 36,
   "metadata": {
    "collapsed": false
   },
   "outputs": [],
   "source": []
  },
  {
   "cell_type": "code",
   "execution_count": 3,
   "metadata": {
    "collapsed": true
   },
   "outputs": [
    {
     "ename": "NameError",
     "evalue": "name 'classifier' is not defined",
     "output_type": "error",
     "traceback": [
      "\u001b[1;31m---------------------------------------------------------------------------\u001b[0m",
      "\u001b[1;31mNameError\u001b[0m                                 Traceback (most recent call last)",
      "\u001b[1;32m<ipython-input-3-08f59e0ce9fa>\u001b[0m in \u001b[0;36m<module>\u001b[1;34m()\u001b[0m\n\u001b[0;32m      2\u001b[0m \u001b[1;33m\u001b[0m\u001b[0m\n\u001b[0;32m      3\u001b[0m \u001b[1;31m#Train classifier\u001b[0m\u001b[1;33m\u001b[0m\u001b[1;33m\u001b[0m\u001b[0m\n\u001b[1;32m----> 4\u001b[1;33m \u001b[0mclassifier\u001b[0m\u001b[1;33m.\u001b[0m\u001b[0mfit\u001b[0m\u001b[1;33m(\u001b[0m\u001b[0msvm_features\u001b[0m\u001b[1;33m,\u001b[0m \u001b[0mlabels\u001b[0m\u001b[1;33m)\u001b[0m\u001b[1;33m\u001b[0m\u001b[0m\n\u001b[0m\u001b[0;32m      5\u001b[0m \u001b[1;33m\u001b[0m\u001b[0m\n\u001b[0;32m      6\u001b[0m \u001b[1;31m#Predict result for play\u001b[0m\u001b[1;33m\u001b[0m\u001b[1;33m\u001b[0m\u001b[0m\n",
      "\u001b[1;31mNameError\u001b[0m: name 'classifier' is not defined"
     ]
    }
   ],
   "source": [
    "#Example\n",
    "\n",
    "#Train classifier\n",
    "classifier.fit(svm_features, labels)  \n",
    "\n",
    "#Predict result for play\n",
    "X = defaultdict(float)\n",
    "X['team'] = \"GB\"\n",
    "X['opponent'] = \"NYG\"\n",
    "X['time'] = 425\n",
    "X['half'] = 1 \n",
    "X['position'] = 10\n",
    "X['half'] = 2\n",
    "X['togo'] = 10\n",
    "X['shotgun'] = 0\n",
    "X['pass'] = 1\n",
    "X['passlen'] = 'short'\n",
    "X['side'] = 'left'\n",
    "X['qbrun'] = 0\n",
    "X = encoder.transform(X)\n",
    "\n",
    "y_pred = clf.predict(X)\n",
    "print prediction"
   ]
  }
 ],
 "metadata": {
  "kernelspec": {
   "display_name": "Python 2",
   "language": "python",
   "name": "python2"
  },
  "language_info": {
   "codemirror_mode": {
    "name": "ipython",
    "version": 2
   },
   "file_extension": ".py",
   "mimetype": "text/x-python",
   "name": "python",
   "nbconvert_exporter": "python",
   "pygments_lexer": "ipython2",
   "version": "2.7.10"
  }
 },
 "nbformat": 4,
 "nbformat_minor": 0
}
