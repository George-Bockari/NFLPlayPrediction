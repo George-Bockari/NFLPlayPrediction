{
 "cells": [
  {
   "cell_type": "code",
   "execution_count": 1,
   "metadata": {
    "collapsed": false,
    "scrolled": true
   },
   "outputs": [
    {
     "name": "stdout",
     "output_type": "stream",
     "text": [
      "177245\n"
     ]
    }
   ],
   "source": [
    "import random\n",
    "from __future__ import division\n",
    "import svmprediction\n",
    "reload(svmprediction)\n",
    "import feat\n",
    "reload(feat)\n",
    "from feat import extract_features\n",
    "from feat import encode_categorical_features\n",
    "from sklearn import svm\n",
    "\n",
    "(features, labels, yard_labels, prog_labels) = extract_features(2009, 2014)\n"
   ]
  },
  {
   "cell_type": "code",
   "execution_count": 111,
   "metadata": {
    "collapsed": false
   },
   "outputs": [
    {
     "name": "stdout",
     "output_type": "stream",
     "text": [
      "[  9.97857167e-01   2.07908811e-03   4.91223361e-05   2.51415598e-06\n",
      "   1.48316376e-06   1.10489155e-06   9.61470841e-07   8.55971418e-07\n",
      "   5.81317881e-07   4.48773162e-07   1.60637834e-07   1.43574684e-07\n",
      "   1.36248546e-07   1.35468678e-07   1.34570270e-07   1.32123573e-07\n",
      "   1.29927650e-07   1.28087487e-07   1.27395847e-07   1.25634028e-07\n",
      "   1.25355994e-07   1.24612715e-07   1.24334238e-07   1.23908792e-07\n",
      "   1.22860736e-07   1.22159789e-07   1.21941059e-07   1.20917963e-07\n",
      "   1.20479155e-07   1.19898068e-07   1.19614510e-07   1.18612414e-07\n",
      "   1.18174625e-07   1.17393971e-07   1.16657459e-07   1.15671683e-07\n",
      "   1.15213104e-07   1.14285708e-07   1.14131050e-07   1.13203640e-07\n",
      "   1.12969074e-07   1.03840214e-07   9.97021493e-08   9.87777345e-08\n",
      "   9.80832253e-08   9.73360338e-08   9.69721900e-08   9.61928191e-08\n",
      "   9.56149184e-08   9.51319512e-08   9.49567517e-08   9.44042579e-08\n",
      "   9.40659012e-08   9.37606957e-08   9.24627017e-08   9.22317337e-08\n",
      "   9.14771330e-08   9.12285853e-08   9.01059793e-08   8.94739049e-08\n",
      "   8.91389493e-08   8.88247739e-08   8.78582198e-08   8.76227448e-08\n",
      "   8.62262639e-08   8.57535620e-08   8.06665644e-08   8.02005770e-08\n",
      "   7.93824988e-08   7.89444403e-08   7.12145055e-08   5.34643702e-08\n",
      "   4.18305093e-08   1.96950269e-31   9.85965025e-33   9.85947152e-33\n",
      "   3.73529427e-34]\n",
      "1.0 0.0\n"
     ]
    }
   ],
   "source": [
    "import dimreduction\n",
    "reload(dimreduction)\n",
    "\n",
    "(svm_features, encoder) = encode_categorical_features(features)\n",
    "(reduced_features, pca) = dimreduction.pca(svm_features.toarray(), svm_features.shape[1])\n",
    "print sum(pca.explained_variance_ratio_), pca.noise_variance_\n",
    "\n",
    "#import pickle\n",
    "#pickle.dump( reduced_features, open( \"features_pca1.p\", \"wb\" ) )"
   ]
  },
  {
   "cell_type": "code",
   "execution_count": 113,
   "metadata": {
    "collapsed": false
   },
   "outputs": [
    {
     "data": {
      "text/plain": [
       "0.99998537724421344"
      ]
     },
     "execution_count": 113,
     "metadata": {},
     "output_type": "execute_result"
    }
   ],
   "source": [
    "sum(pca.explained_variance_ratio_[:3])"
   ]
  },
  {
   "cell_type": "code",
   "execution_count": 112,
   "metadata": {
    "collapsed": false
   },
   "outputs": [],
   "source": [
    "import matplotlib.pyplot as plt\n",
    "\n",
    "plt.clf()\n",
    "x=range(1,len(pca.explained_variance_ratio_)+1)\n",
    "plt.plot(x,pca.explained_variance_ratio_,marker='o')\n",
    "plt.yscale('log')\n",
    "plt.ylim([0.00000000000000000000000000000000001,10])\n",
    "plt.ylabel('Variance ratio')\n",
    "plt.xlabel('Component')\n",
    "plt.title('Component variances')\n",
    "\n",
    "\n",
    "plt.show()"
   ]
  },
  {
   "cell_type": "code",
   "execution_count": 110,
   "metadata": {
    "collapsed": false
   },
   "outputs": [],
   "source": [
    "\n",
    "plt.clf()\n",
    "#x=range(1,len(pca.explained_variance_ratio_)+1)\n",
    "x1=[]\n",
    "y1=[]\n",
    "x2=[]\n",
    "y2=[]\n",
    "for i,t in enumerate(reduced_features):\n",
    "    if labels[i] == 1:\n",
    "        x1.append(t[0])\n",
    "        y1.append(t[1])\n",
    "    else:\n",
    "        x2.append(t[0])\n",
    "        y2.append(t[1])\n",
    "\n",
    "plt.scatter(x2,y2,marker='.',color='b',alpha=0.66,label='failure')\n",
    "plt.scatter(x1,y1,marker='.',color='r',alpha=0.33,label='success')\n",
    "\n",
    "plt.legend(loc=4)\n",
    "\n",
    "\n",
    "plt.ylabel('Component 2')\n",
    "plt.xlabel('Component 1')\n",
    "plt.xlim([-1200,1000])\n",
    "plt.title('Projection of first two components')\n",
    "\n",
    "\n",
    "plt.show()"
   ]
  },
  {
   "cell_type": "code",
   "execution_count": 69,
   "metadata": {
    "collapsed": false
   },
   "outputs": [
    {
     "name": "stdout",
     "output_type": "stream",
     "text": [
      "0.997857166796\n",
      "0.999936254908\n",
      "0.999985377244\n",
      "0.9999878914\n",
      "0.999989374564\n",
      "0.999990479455\n",
      "0.999991440926\n",
      "0.999992296898\n",
      "0.999992878216\n",
      "0.999993326989\n",
      "0.999993487627\n",
      "0.999993631201\n",
      "0.99999376745\n",
      "0.999993902919\n",
      "0.999994037489\n",
      "0.999994169612\n",
      "0.99999429954\n",
      "0.999994427628\n",
      "0.999994555023\n",
      "0.999994680657\n",
      "0.999994806013\n",
      "0.999994930626\n",
      "0.99999505496\n",
      "0.999995178869\n",
      "0.99999530173\n",
      "0.99999542389\n",
      "0.999995545831\n",
      "0.999995666749\n",
      "0.999995787228\n",
      "0.999995907126\n",
      "0.99999602674\n",
      "0.999996145353\n",
      "0.999996263527\n",
      "0.999996380921\n",
      "0.999996497579\n",
      "0.999996613251\n",
      "0.999996728464\n",
      "0.999996842749\n",
      "0.99999695688\n",
      "0.999997070084\n",
      "0.999997183053\n",
      "0.999997286893\n",
      "0.999997386596\n",
      "0.999997485373\n",
      "0.999997583456\n",
      "0.999997680792\n",
      "0.999997777765\n",
      "0.999997873958\n",
      "0.999997969572\n",
      "0.999998064704\n",
      "0.999998159661\n",
      "0.999998254065\n",
      "0.999998348131\n",
      "0.999998441892\n",
      "0.999998534355\n",
      "0.999998626586\n",
      "0.999998718064\n",
      "0.999998809292\n",
      "0.999998899398\n",
      "0.999998988872\n",
      "0.999999078011\n",
      "0.999999166836\n",
      "0.999999254694\n",
      "0.999999342317\n",
      "0.999999428543\n",
      "0.999999514297\n",
      "0.999999594963\n",
      "0.999999675164\n",
      "0.999999754546\n",
      "0.999999833491\n",
      "0.999999904705\n",
      "0.999999958169\n",
      "1.0\n",
      "1.0\n",
      "1.0\n",
      "1.0\n",
      "1.0\n"
     ]
    }
   ],
   "source": [
    "import matplotlib.pyplot as plt\n",
    "\n",
    "plt.clf()\n",
    "x=range(1,len(pca.explained_variance_ratio_)+1)\n",
    "y = []\n",
    "for i,v in enumerate(pca.explained_variance_ratio_):\n",
    "    t = sum(pca.explained_variance_ratio_[:i+1])\n",
    "    print t\n",
    "    y.append(t)\n",
    "\n",
    "\n",
    "plt.plot(x,y,marker='o')\n",
    "plt.yscale('log')\n",
    "plt.ylim([0.000000001,1])\n",
    "plt.ylabel('Variance ratio')\n",
    "plt.xlabel('Component')\n",
    "plt.title('PCA on training data')\n",
    "\n",
    "\n",
    "plt.show()"
   ]
  },
  {
   "cell_type": "code",
   "execution_count": 89,
   "metadata": {
    "collapsed": false
   },
   "outputs": [
    {
     "name": "stdout",
     "output_type": "stream",
     "text": [
      "6048\n",
      "**********************************\n",
      "Recall: 50.8390918065 %\n",
      "Precision: 53.2299741602 %\n",
      "Accuracy: 68.5681216931 %\n",
      "**********************************\n",
      "[[3117  905]\n",
      " [ 996 1030]]\n"
     ]
    }
   ],
   "source": [
    "from sklearn.cross_validation import train_test_split\n",
    "from sklearn.metrics import confusion_matrix\n",
    "from sklearn import svm\n",
    "import feat\n",
    "reload(feat)\n",
    "(team_features,team_labels) = feat.get_team_features('NE', features, labels,feature_name='team')\n",
    "\n",
    "(svm_features, encoder) = encode_categorical_features(team_features)\n",
    "\n",
    "clf = tree.DecisionTreeClassifier(max_depth=2,class_weight='balanced')\n",
    "cm = evaluate.clf_evaluate(clf,svm_features,team_labels)\n",
    "\n",
    "evaluate.plot_tree(clf,encoder.feature_names_)\n",
    "print cm"
   ]
  },
  {
   "cell_type": "code",
   "execution_count": 90,
   "metadata": {
    "collapsed": false
   },
   "outputs": [
    {
     "name": "stdout",
     "output_type": "stream",
     "text": [
      "5435\n",
      "**********************************\n",
      "Recall: 38.2746051033 %\n",
      "Precision: 37.4109263658 %\n",
      "Accuracy: 61.9135234591 %\n",
      "**********************************\n",
      "[[2735 1054]\n",
      " [1016  630]]\n"
     ]
    }
   ],
   "source": [
    "from sklearn.cross_validation import train_test_split\n",
    "from sklearn.metrics import confusion_matrix\n",
    "from sklearn import svm\n",
    "import feat\n",
    "reload(feat)\n",
    "(team_features,team_labels) = feat.get_team_features('NO', features, labels,feature_name='opponent')\n",
    "\n",
    "(svm_features, encoder) = encode_categorical_features(team_features)\n",
    "\n",
    "classifier = svm.SVC(class_weight='balanced')\n",
    "cm = evaluate.clf_evaluate(classifier,svm_features,team_labels)\n",
    "print cm"
   ]
  },
  {
   "cell_type": "code",
   "execution_count": null,
   "metadata": {
    "collapsed": false,
    "scrolled": true
   },
   "outputs": [],
   "source": [
    "encoder.vocabulary_"
   ]
  },
  {
   "cell_type": "code",
   "execution_count": 1,
   "metadata": {
    "collapsed": true
   },
   "outputs": [],
   "source": [
    "#import pickle\n",
    "#reduced_features = pickle.load( open( \"features_pca1.p\", \"rb\" ) )"
   ]
  },
  {
   "cell_type": "code",
   "execution_count": 24,
   "metadata": {
    "collapsed": false
   },
   "outputs": [
    {
     "name": "stdout",
     "output_type": "stream",
     "text": [
      "**********************************\n",
      "Accuracy: 67.5923157212 %\n",
      "Precision: 46.5255450788 %\n",
      "Recall: 65.8565500889 %\n",
      "F1: 54.5284706665 %\n",
      "**********************************\n"
     ]
    }
   ],
   "source": [
    "import evaluate\n",
    "from sklearn import tree\n",
    "reload(evaluate)\n",
    "clf = tree.DecisionTreeClassifier(max_depth=8,class_weight='balanced')\n",
    "cm = evaluate.clf_evaluate(clf,svm_features, labels)\n",
    "\n",
    "#evaluate.plot_confusion_matrix(cm)"
   ]
  },
  {
   "cell_type": "code",
   "execution_count": 52,
   "metadata": {
    "collapsed": false
   },
   "outputs": [
    {
     "name": "stdout",
     "output_type": "stream",
     "text": [
      "MAE: 7.26303421817 / RMSE: 11.7680667036\n",
      "\n"
     ]
    }
   ],
   "source": [
    "from sklearn import tree\n",
    "import evaluate\n",
    "reload(evaluate)\n",
    "import matplotlib.pyplot as plt\n",
    "\n",
    "mae_list = []\n",
    "rmse_list = []\n",
    "x = [1,2,4,6,8,10,12,15]\n",
    "for i in [1,2,4,6,8,10,12,15]:\n",
    "    print i,'...'\n",
    "    clf = tree.DecisionTreeRegressor(max_depth=i)\n",
    "    (_,_,mae,rmse) = evaluate.reg_evaluate(clf,svm_features, yard_labels)\n",
    "    mae_list.append(mae)\n",
    "    rmse_list.append(rmse)\n",
    "    \n",
    "\n",
    "clf = tree.DecisionTreeRegressor()\n",
    "diffs = evaluate.reg_evaluate(clf,svm_features,yard_labels)\n",
    "print \"\"\n",
    "#plt.hist(diffs,bins = 100)\n",
    "#plt.xlabel('Difference [yards]')\n",
    "#plt.show()\n",
    "\n",
    "#evaluate.plot_tree(clf,encoder.feature_names_)\n"
   ]
  },
  {
   "cell_type": "code",
   "execution_count": null,
   "metadata": {
    "collapsed": false
   },
   "outputs": [],
   "source": [
    "plt.clf()\n",
    "plt.plot()"
   ]
  },
  {
   "cell_type": "code",
   "execution_count": 67,
   "metadata": {
    "collapsed": false
   },
   "outputs": [
    {
     "name": "stdout",
     "output_type": "stream",
     "text": [
      "[[22986  8237]\n",
      " [ 7690  5399]]\n"
     ]
    }
   ],
   "source": [
    "from sklearn.cross_validation import train_test_split\n",
    "from sklearn.metrics import confusion_matrix\n",
    "from sklearn import svm\n",
    "\n",
    "classifier = svm.SVC(class_weight='balanced')\n",
    "\n",
    "X_train, X_test, y_train, y_test = train_test_split(reduced_features, labels)\n",
    "# Run classifier\n",
    "y_pred = classifier.fit(X_train, y_train).predict(X_test)\n",
    "\n",
    "# Compute confusion matrix\n",
    "cm = confusion_matrix(y_test, y_pred)\n",
    "print cm"
   ]
  },
  {
   "cell_type": "code",
   "execution_count": null,
   "metadata": {
    "collapsed": false
   },
   "outputs": [],
   "source": [
    "from sklearn.externals import joblib\n",
    "joblib.dump(classifier, 'svm_pca6.pkl') \n",
    "#clf = joblib.load('svm_pca6.pkl') "
   ]
  },
  {
   "cell_type": "code",
   "execution_count": 36,
   "metadata": {
    "collapsed": false
   },
   "outputs": [],
   "source": []
  },
  {
   "cell_type": "code",
   "execution_count": 16,
   "metadata": {
    "collapsed": false
   },
   "outputs": [
    {
     "name": "stdout",
     "output_type": "stream",
     "text": [
      "**********************************\n",
      "Accuracy: 69.1963101921 %\n",
      "Precision: 47.891350965 %\n",
      "Recall: 49.9646251219 %\n",
      "F1: 48.906024818 %\n",
      "**********************************\n",
      "[[96517 28431]\n",
      " [26167 26130]]\n"
     ]
    }
   ],
   "source": [
    "import evaluate\n",
    "from sklearn import tree\n",
    "from sklearn.cross_validation import train_test_split\n",
    "from sklearn.metrics import confusion_matrix\n",
    "reload(evaluate)\n",
    "\n",
    "clf = tree.DecisionTreeClassifier(max_depth=1,class_weight='balanced')\n",
    "cm = evaluate.clf_evaluate(clf,svm_features,labels)\n",
    "#,class_weight='balanced'\n",
    "evaluate.plot_tree(clf,encoder.feature_names_)\n",
    "\n",
    "print cm\n"
   ]
  },
  {
   "cell_type": "markdown",
   "metadata": {},
   "source": []
  },
  {
   "cell_type": "code",
   "execution_count": 3,
   "metadata": {
    "collapsed": true
   },
   "outputs": [
    {
     "ename": "NameError",
     "evalue": "name 'classifier' is not defined",
     "output_type": "error",
     "traceback": [
      "\u001b[1;31m---------------------------------------------------------------------------\u001b[0m",
      "\u001b[1;31mNameError\u001b[0m                                 Traceback (most recent call last)",
      "\u001b[1;32m<ipython-input-3-08f59e0ce9fa>\u001b[0m in \u001b[0;36m<module>\u001b[1;34m()\u001b[0m\n\u001b[0;32m      2\u001b[0m \u001b[1;33m\u001b[0m\u001b[0m\n\u001b[0;32m      3\u001b[0m \u001b[1;31m#Train classifier\u001b[0m\u001b[1;33m\u001b[0m\u001b[1;33m\u001b[0m\u001b[0m\n\u001b[1;32m----> 4\u001b[1;33m \u001b[0mclassifier\u001b[0m\u001b[1;33m.\u001b[0m\u001b[0mfit\u001b[0m\u001b[1;33m(\u001b[0m\u001b[0msvm_features\u001b[0m\u001b[1;33m,\u001b[0m \u001b[0mlabels\u001b[0m\u001b[1;33m)\u001b[0m\u001b[1;33m\u001b[0m\u001b[0m\n\u001b[0m\u001b[0;32m      5\u001b[0m \u001b[1;33m\u001b[0m\u001b[0m\n\u001b[0;32m      6\u001b[0m \u001b[1;31m#Predict result for play\u001b[0m\u001b[1;33m\u001b[0m\u001b[1;33m\u001b[0m\u001b[0m\n",
      "\u001b[1;31mNameError\u001b[0m: name 'classifier' is not defined"
     ]
    }
   ],
   "source": [
    "#Example\n",
    "\n",
    "#Train classifier\n",
    "classifier.fit(svm_features, labels)  \n",
    "\n",
    "#Predict result for play\n",
    "X = defaultdict(float)\n",
    "X['team'] = \"GB\"\n",
    "X['opponent'] = \"NYG\"\n",
    "X['time'] = 425\n",
    "X['half'] = 1 \n",
    "X['position'] = 10\n",
    "X['half'] = 2\n",
    "X['togo'] = 10\n",
    "X['shotgun'] = 0\n",
    "X['pass'] = 1\n",
    "X['passlen'] = 'short'\n",
    "X['side'] = 'left'\n",
    "X['qbrun'] = 0\n",
    "X = encoder.transform(X)\n",
    "\n",
    "y_pred = clf.predict(X)\n",
    "print prediction"
   ]
  },
  {
   "cell_type": "code",
   "execution_count": 19,
   "metadata": {
    "collapsed": false
   },
   "outputs": [],
   "source": [
    "from __future__ import division\n",
    "import matplotlib.pyplot as plt\n",
    "import numpy as np\n",
    "\n",
    "x = np.linspace(0,15,75)\n",
    "y1 = []\n",
    "y2 = []\n",
    "y3 = []\n",
    "\n",
    "for i in x:\n",
    "    \n",
    "    if i < 10.0:\n",
    "        y3.append(0.0)\n",
    "        y1.append(i/10.0)\n",
    "        y2.append((i/10.0)**2)\n",
    "    else:\n",
    "        y3.append(1.0)\n",
    "        y1.append(1.0)\n",
    "        y2.append(1.0)\n",
    "\n",
    "plt.clf()\n",
    "plt.plot(x,y1,label='1st down')\n",
    "plt.plot(x,y2,label='2nd down')\n",
    "plt.plot(x,y3,label='3rd/4th down')\n",
    "plt.ylim([0,1.1])\n",
    "plt.xlim([0,12])\n",
    "plt.legend(loc=2)\n",
    "plt.xticks([0,5,10], ['0','togo/2','togo'])\n",
    "plt.ylabel('Progress score')\n",
    "plt.xlabel('Distance')\n",
    "plt.title('Progress label (Version 1)')\n",
    "\n",
    "plt.show()"
   ]
  },
  {
   "cell_type": "code",
   "execution_count": null,
   "metadata": {
    "collapsed": false
   },
   "outputs": [],
   "source": [
    "from __future__ import division\n",
    "import matplotlib.pyplot as plt\n",
    "import numpy as np\n",
    "\n",
    "x = np.linspace(0,15,75)\n",
    "y1 = []\n",
    "y2 = []\n",
    "y3 = []\n",
    "\n",
    "\n",
    "for i in x:\n",
    "    \n",
    "    if i < 10.0:\n",
    "        y3.append(0.0)\n",
    "        y1.append((i*2)/10.0)\n",
    "        y2.append(i/10.0)\n",
    "    else:\n",
    "        y3.append(1 + float(i - 10.0) / 10.0)\n",
    "        y1.append(1 + float(i - 10.0) / 10.0)\n",
    "        y2.append(1 + float(i - 10.0) / 10.0)\n",
    "\n",
    "plt.clf()\n",
    "plt.plot(x,y1,label='1st down')\n",
    "plt.plot(x,y2,label='2nd down')\n",
    "plt.plot(x,y3,label='3rd/4th down')\n",
    "plt.ylim([0,2.2])\n",
    "plt.xlim([0,15])\n",
    "plt.legend(loc=2)\n",
    "plt.xticks([0,5,10], ['0','togo/2','togo'])\n",
    "plt.ylabel('Progress score')\n",
    "plt.xlabel('Distance')\n",
    "plt.title('Progress label (Version 1)')\n",
    "\n",
    "plt.show()"
   ]
  },
  {
   "cell_type": "code",
   "execution_count": null,
   "metadata": {
    "collapsed": true
   },
   "outputs": [],
   "source": []
  }
 ],
 "metadata": {
  "kernelspec": {
   "display_name": "Python 2",
   "language": "python",
   "name": "python2"
  },
  "language_info": {
   "codemirror_mode": {
    "name": "ipython",
    "version": 2
   },
   "file_extension": ".py",
   "mimetype": "text/x-python",
   "name": "python",
   "nbconvert_exporter": "python",
   "pygments_lexer": "ipython2",
   "version": "2.7.10"
  }
 },
 "nbformat": 4,
 "nbformat_minor": 0
}
